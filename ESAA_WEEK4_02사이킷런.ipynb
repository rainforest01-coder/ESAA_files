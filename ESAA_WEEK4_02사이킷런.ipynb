{
  "nbformat": 4,
  "nbformat_minor": 0,
  "metadata": {
    "colab": {
      "provenance": [],
      "authorship_tag": "ABX9TyO4TWCyWFYFZWKChLq0pq51",
      "include_colab_link": true
    },
    "kernelspec": {
      "name": "python3",
      "display_name": "Python 3"
    },
    "language_info": {
      "name": "python"
    }
  },
  "cells": [
    {
      "cell_type": "markdown",
      "metadata": {
        "id": "view-in-github",
        "colab_type": "text"
      },
      "source": [
        "<a href=\"https://colab.research.google.com/github/rainforest01-coder/ESAA_files/blob/main/ESAA_WEEK4_02%EC%82%AC%EC%9D%B4%ED%82%B7%EB%9F%B0.ipynb\" target=\"_parent\"><img src=\"https://colab.research.google.com/assets/colab-badge.svg\" alt=\"Open In Colab\"/></a>"
      ]
    },
    {
      "cell_type": "markdown",
      "source": [
        "##05 데이터 전처리\n",
        "\n",
        "데이터 처리 기본사항\n",
        "* 결손값(NaN,Null) 허용 안됨 > 해당 피처 드롭 또는 평균값으로 대체\n",
        "* 모든 문자열 값은 인코딩되어 숫자형으로 변환해야함\n",
        "  * 카테고리형 피처: 코드값으로 표현\n",
        "  * 텍스트형 피처: 피처 벡터화 또는 삭제"
      ],
      "metadata": {
        "id": "yfjykpsEiwnr"
      }
    },
    {
      "cell_type": "markdown",
      "source": [
        "###데이터 인코딩\n",
        "\n",
        "1. 레이블 인코딩\n",
        "\n",
        "> 카테고리 피처를 코드형 숫자 값으로 변환\n",
        "\n",
        "단점: 숫자값의 경우 크고 작음에 대한 특성이 작용"
      ],
      "metadata": {
        "id": "gejFNbA9j0EC"
      }
    },
    {
      "cell_type": "code",
      "source": [
        "from sklearn.preprocessing import LabelEncoder\n",
        "items=['TV','냉장고','전자레인지','컴퓨터','선풍기','믹서','믹서']\n",
        "encoder=LabelEncoder()\n",
        "encoder.fit(items)\n",
        "labels=encoder.transform(items)\n",
        "print('인코딩 변환값: ',labels)"
      ],
      "metadata": {
        "colab": {
          "base_uri": "https://localhost:8080/"
        },
        "id": "sw5mLGsAjylg",
        "outputId": "b337f8bb-44a4-4d29-f29d-90b7ca1816c3"
      },
      "execution_count": 2,
      "outputs": [
        {
          "output_type": "stream",
          "name": "stdout",
          "text": [
            "인코딩 변환값:  [0 1 4 5 3 2 2]\n"
          ]
        }
      ]
    },
    {
      "cell_type": "code",
      "source": [
        "print('인코딩 클래스: ',encoder.classes_)"
      ],
      "metadata": {
        "colab": {
          "base_uri": "https://localhost:8080/"
        },
        "id": "ltU7Bc5MkV7g",
        "outputId": "d098ea11-7f3e-47f0-d2df-fe536b9fbbc9"
      },
      "execution_count": 4,
      "outputs": [
        {
          "output_type": "stream",
          "name": "stdout",
          "text": [
            "인코딩 클래스:  ['TV' '냉장고' '믹서' '선풍기' '전자레인지' '컴퓨터']\n"
          ]
        }
      ]
    },
    {
      "cell_type": "code",
      "source": [
        "print('디코딩 원본값',encoder.inverse_transform([4,5,2,0,1,1,3,3]))"
      ],
      "metadata": {
        "colab": {
          "base_uri": "https://localhost:8080/"
        },
        "id": "wRB38cGok-Yz",
        "outputId": "cca91d10-1ae5-469d-9f3f-e8edb66d5ec8"
      },
      "execution_count": 6,
      "outputs": [
        {
          "output_type": "stream",
          "name": "stdout",
          "text": [
            "디코딩 원본값 ['전자레인지' '컴퓨터' '믹서' 'TV' '냉장고' '냉장고' '선풍기' '선풍기']\n"
          ]
        }
      ]
    },
    {
      "cell_type": "markdown",
      "source": [
        "2. 원-핫 인코딩\n",
        "\n",
        "피처 값의 유형에 따라 새로운 피처를 추가해 고유 값에 해당하는 칼럼에만 1을 표시하고 나머지 칼럼에는 0을 표시하는 방식"
      ],
      "metadata": {
        "id": "bJ9LWwPBlmW1"
      }
    },
    {
      "cell_type": "code",
      "source": [
        "from sklearn.preprocessing import OneHotEncoder\n",
        "import numpy as np\n",
        "items=['TV','냉장고','전자레인지','컴퓨터','선풍기','선풍기','믹서','믹서']\n",
        "\n",
        "#2차원으로\n",
        "items=np.array(items).reshape(-1,1)\n",
        "oh_encoder=OneHotEncoder()\n",
        "oh_encoder.fit(items)\n",
        "oh_labels=oh_encoder.transform(items)\n",
        "\n",
        "#OneHotEncoder결과는 희소 행렬이므로 toarray()를 이용해 밀집 행렬로 변환.\n",
        "#희소행렬: 0이 아닌 값과 위치 정보만 저장해 메모리 낭비를 줄임\n",
        "print('원-핫 인코딩 데이터')\n",
        "print(oh_labels.toarray())\n",
        "print('원-핫 인코딩 데이터 차원')\n",
        "print(oh_labels.shape)"
      ],
      "metadata": {
        "colab": {
          "base_uri": "https://localhost:8080/"
        },
        "id": "0Eh5rpEVlPQg",
        "outputId": "b762e4d2-c7f2-4fc0-ff08-6c9eef4a9d69"
      },
      "execution_count": 8,
      "outputs": [
        {
          "output_type": "stream",
          "name": "stdout",
          "text": [
            "원-핫 인코딩 데이터\n",
            "[[1. 0. 0. 0. 0. 0.]\n",
            " [0. 1. 0. 0. 0. 0.]\n",
            " [0. 0. 0. 0. 1. 0.]\n",
            " [0. 0. 0. 0. 0. 1.]\n",
            " [0. 0. 0. 1. 0. 0.]\n",
            " [0. 0. 0. 1. 0. 0.]\n",
            " [0. 0. 1. 0. 0. 0.]\n",
            " [0. 0. 1. 0. 0. 0.]]\n",
            "원-핫 인코딩 데이터 차원\n",
            "(8, 6)\n"
          ]
        }
      ]
    },
    {
      "cell_type": "markdown",
      "source": [
        "판다스에 원-핫 인코딩을 더 쉽게 지원하는 API있음:get_dummies()"
      ],
      "metadata": {
        "id": "PJZU8DkroJFI"
      }
    },
    {
      "cell_type": "code",
      "source": [
        "import pandas as pd\n",
        "df=pd.DataFrame({'item':['TV','냉장고','전자레인지','컴퓨터','선풍기','선풍기','믹서','믹서']})\n",
        "pd.get_dummies(df,dtype=int)"
      ],
      "metadata": {
        "colab": {
          "base_uri": "https://localhost:8080/",
          "height": 317
        },
        "id": "BFlVwDunnZQl",
        "outputId": "4532a055-86a8-4cae-f346-d50c132fd2b9"
      },
      "execution_count": 12,
      "outputs": [
        {
          "output_type": "execute_result",
          "data": {
            "text/plain": [
              "   item_TV  item_냉장고  item_믹서  item_선풍기  item_전자레인지  item_컴퓨터\n",
              "0        1         0        0         0           0         0\n",
              "1        0         1        0         0           0         0\n",
              "2        0         0        0         0           1         0\n",
              "3        0         0        0         0           0         1\n",
              "4        0         0        0         1           0         0\n",
              "5        0         0        0         1           0         0\n",
              "6        0         0        1         0           0         0\n",
              "7        0         0        1         0           0         0"
            ],
            "text/html": [
              "\n",
              "  <div id=\"df-fb185b00-1a31-409d-8309-bddbf7e098c6\" class=\"colab-df-container\">\n",
              "    <div>\n",
              "<style scoped>\n",
              "    .dataframe tbody tr th:only-of-type {\n",
              "        vertical-align: middle;\n",
              "    }\n",
              "\n",
              "    .dataframe tbody tr th {\n",
              "        vertical-align: top;\n",
              "    }\n",
              "\n",
              "    .dataframe thead th {\n",
              "        text-align: right;\n",
              "    }\n",
              "</style>\n",
              "<table border=\"1\" class=\"dataframe\">\n",
              "  <thead>\n",
              "    <tr style=\"text-align: right;\">\n",
              "      <th></th>\n",
              "      <th>item_TV</th>\n",
              "      <th>item_냉장고</th>\n",
              "      <th>item_믹서</th>\n",
              "      <th>item_선풍기</th>\n",
              "      <th>item_전자레인지</th>\n",
              "      <th>item_컴퓨터</th>\n",
              "    </tr>\n",
              "  </thead>\n",
              "  <tbody>\n",
              "    <tr>\n",
              "      <th>0</th>\n",
              "      <td>1</td>\n",
              "      <td>0</td>\n",
              "      <td>0</td>\n",
              "      <td>0</td>\n",
              "      <td>0</td>\n",
              "      <td>0</td>\n",
              "    </tr>\n",
              "    <tr>\n",
              "      <th>1</th>\n",
              "      <td>0</td>\n",
              "      <td>1</td>\n",
              "      <td>0</td>\n",
              "      <td>0</td>\n",
              "      <td>0</td>\n",
              "      <td>0</td>\n",
              "    </tr>\n",
              "    <tr>\n",
              "      <th>2</th>\n",
              "      <td>0</td>\n",
              "      <td>0</td>\n",
              "      <td>0</td>\n",
              "      <td>0</td>\n",
              "      <td>1</td>\n",
              "      <td>0</td>\n",
              "    </tr>\n",
              "    <tr>\n",
              "      <th>3</th>\n",
              "      <td>0</td>\n",
              "      <td>0</td>\n",
              "      <td>0</td>\n",
              "      <td>0</td>\n",
              "      <td>0</td>\n",
              "      <td>1</td>\n",
              "    </tr>\n",
              "    <tr>\n",
              "      <th>4</th>\n",
              "      <td>0</td>\n",
              "      <td>0</td>\n",
              "      <td>0</td>\n",
              "      <td>1</td>\n",
              "      <td>0</td>\n",
              "      <td>0</td>\n",
              "    </tr>\n",
              "    <tr>\n",
              "      <th>5</th>\n",
              "      <td>0</td>\n",
              "      <td>0</td>\n",
              "      <td>0</td>\n",
              "      <td>1</td>\n",
              "      <td>0</td>\n",
              "      <td>0</td>\n",
              "    </tr>\n",
              "    <tr>\n",
              "      <th>6</th>\n",
              "      <td>0</td>\n",
              "      <td>0</td>\n",
              "      <td>1</td>\n",
              "      <td>0</td>\n",
              "      <td>0</td>\n",
              "      <td>0</td>\n",
              "    </tr>\n",
              "    <tr>\n",
              "      <th>7</th>\n",
              "      <td>0</td>\n",
              "      <td>0</td>\n",
              "      <td>1</td>\n",
              "      <td>0</td>\n",
              "      <td>0</td>\n",
              "      <td>0</td>\n",
              "    </tr>\n",
              "  </tbody>\n",
              "</table>\n",
              "</div>\n",
              "    <div class=\"colab-df-buttons\">\n",
              "\n",
              "  <div class=\"colab-df-container\">\n",
              "    <button class=\"colab-df-convert\" onclick=\"convertToInteractive('df-fb185b00-1a31-409d-8309-bddbf7e098c6')\"\n",
              "            title=\"Convert this dataframe to an interactive table.\"\n",
              "            style=\"display:none;\">\n",
              "\n",
              "  <svg xmlns=\"http://www.w3.org/2000/svg\" height=\"24px\" viewBox=\"0 -960 960 960\">\n",
              "    <path d=\"M120-120v-720h720v720H120Zm60-500h600v-160H180v160Zm220 220h160v-160H400v160Zm0 220h160v-160H400v160ZM180-400h160v-160H180v160Zm440 0h160v-160H620v160ZM180-180h160v-160H180v160Zm440 0h160v-160H620v160Z\"/>\n",
              "  </svg>\n",
              "    </button>\n",
              "\n",
              "  <style>\n",
              "    .colab-df-container {\n",
              "      display:flex;\n",
              "      gap: 12px;\n",
              "    }\n",
              "\n",
              "    .colab-df-convert {\n",
              "      background-color: #E8F0FE;\n",
              "      border: none;\n",
              "      border-radius: 50%;\n",
              "      cursor: pointer;\n",
              "      display: none;\n",
              "      fill: #1967D2;\n",
              "      height: 32px;\n",
              "      padding: 0 0 0 0;\n",
              "      width: 32px;\n",
              "    }\n",
              "\n",
              "    .colab-df-convert:hover {\n",
              "      background-color: #E2EBFA;\n",
              "      box-shadow: 0px 1px 2px rgba(60, 64, 67, 0.3), 0px 1px 3px 1px rgba(60, 64, 67, 0.15);\n",
              "      fill: #174EA6;\n",
              "    }\n",
              "\n",
              "    .colab-df-buttons div {\n",
              "      margin-bottom: 4px;\n",
              "    }\n",
              "\n",
              "    [theme=dark] .colab-df-convert {\n",
              "      background-color: #3B4455;\n",
              "      fill: #D2E3FC;\n",
              "    }\n",
              "\n",
              "    [theme=dark] .colab-df-convert:hover {\n",
              "      background-color: #434B5C;\n",
              "      box-shadow: 0px 1px 3px 1px rgba(0, 0, 0, 0.15);\n",
              "      filter: drop-shadow(0px 1px 2px rgba(0, 0, 0, 0.3));\n",
              "      fill: #FFFFFF;\n",
              "    }\n",
              "  </style>\n",
              "\n",
              "    <script>\n",
              "      const buttonEl =\n",
              "        document.querySelector('#df-fb185b00-1a31-409d-8309-bddbf7e098c6 button.colab-df-convert');\n",
              "      buttonEl.style.display =\n",
              "        google.colab.kernel.accessAllowed ? 'block' : 'none';\n",
              "\n",
              "      async function convertToInteractive(key) {\n",
              "        const element = document.querySelector('#df-fb185b00-1a31-409d-8309-bddbf7e098c6');\n",
              "        const dataTable =\n",
              "          await google.colab.kernel.invokeFunction('convertToInteractive',\n",
              "                                                    [key], {});\n",
              "        if (!dataTable) return;\n",
              "\n",
              "        const docLinkHtml = 'Like what you see? Visit the ' +\n",
              "          '<a target=\"_blank\" href=https://colab.research.google.com/notebooks/data_table.ipynb>data table notebook</a>'\n",
              "          + ' to learn more about interactive tables.';\n",
              "        element.innerHTML = '';\n",
              "        dataTable['output_type'] = 'display_data';\n",
              "        await google.colab.output.renderOutput(dataTable, element);\n",
              "        const docLink = document.createElement('div');\n",
              "        docLink.innerHTML = docLinkHtml;\n",
              "        element.appendChild(docLink);\n",
              "      }\n",
              "    </script>\n",
              "  </div>\n",
              "\n",
              "\n",
              "    <div id=\"df-5356514d-1d87-41cf-9be7-308a5c938469\">\n",
              "      <button class=\"colab-df-quickchart\" onclick=\"quickchart('df-5356514d-1d87-41cf-9be7-308a5c938469')\"\n",
              "                title=\"Suggest charts\"\n",
              "                style=\"display:none;\">\n",
              "\n",
              "<svg xmlns=\"http://www.w3.org/2000/svg\" height=\"24px\"viewBox=\"0 0 24 24\"\n",
              "     width=\"24px\">\n",
              "    <g>\n",
              "        <path d=\"M19 3H5c-1.1 0-2 .9-2 2v14c0 1.1.9 2 2 2h14c1.1 0 2-.9 2-2V5c0-1.1-.9-2-2-2zM9 17H7v-7h2v7zm4 0h-2V7h2v10zm4 0h-2v-4h2v4z\"/>\n",
              "    </g>\n",
              "</svg>\n",
              "      </button>\n",
              "\n",
              "<style>\n",
              "  .colab-df-quickchart {\n",
              "      --bg-color: #E8F0FE;\n",
              "      --fill-color: #1967D2;\n",
              "      --hover-bg-color: #E2EBFA;\n",
              "      --hover-fill-color: #174EA6;\n",
              "      --disabled-fill-color: #AAA;\n",
              "      --disabled-bg-color: #DDD;\n",
              "  }\n",
              "\n",
              "  [theme=dark] .colab-df-quickchart {\n",
              "      --bg-color: #3B4455;\n",
              "      --fill-color: #D2E3FC;\n",
              "      --hover-bg-color: #434B5C;\n",
              "      --hover-fill-color: #FFFFFF;\n",
              "      --disabled-bg-color: #3B4455;\n",
              "      --disabled-fill-color: #666;\n",
              "  }\n",
              "\n",
              "  .colab-df-quickchart {\n",
              "    background-color: var(--bg-color);\n",
              "    border: none;\n",
              "    border-radius: 50%;\n",
              "    cursor: pointer;\n",
              "    display: none;\n",
              "    fill: var(--fill-color);\n",
              "    height: 32px;\n",
              "    padding: 0;\n",
              "    width: 32px;\n",
              "  }\n",
              "\n",
              "  .colab-df-quickchart:hover {\n",
              "    background-color: var(--hover-bg-color);\n",
              "    box-shadow: 0 1px 2px rgba(60, 64, 67, 0.3), 0 1px 3px 1px rgba(60, 64, 67, 0.15);\n",
              "    fill: var(--button-hover-fill-color);\n",
              "  }\n",
              "\n",
              "  .colab-df-quickchart-complete:disabled,\n",
              "  .colab-df-quickchart-complete:disabled:hover {\n",
              "    background-color: var(--disabled-bg-color);\n",
              "    fill: var(--disabled-fill-color);\n",
              "    box-shadow: none;\n",
              "  }\n",
              "\n",
              "  .colab-df-spinner {\n",
              "    border: 2px solid var(--fill-color);\n",
              "    border-color: transparent;\n",
              "    border-bottom-color: var(--fill-color);\n",
              "    animation:\n",
              "      spin 1s steps(1) infinite;\n",
              "  }\n",
              "\n",
              "  @keyframes spin {\n",
              "    0% {\n",
              "      border-color: transparent;\n",
              "      border-bottom-color: var(--fill-color);\n",
              "      border-left-color: var(--fill-color);\n",
              "    }\n",
              "    20% {\n",
              "      border-color: transparent;\n",
              "      border-left-color: var(--fill-color);\n",
              "      border-top-color: var(--fill-color);\n",
              "    }\n",
              "    30% {\n",
              "      border-color: transparent;\n",
              "      border-left-color: var(--fill-color);\n",
              "      border-top-color: var(--fill-color);\n",
              "      border-right-color: var(--fill-color);\n",
              "    }\n",
              "    40% {\n",
              "      border-color: transparent;\n",
              "      border-right-color: var(--fill-color);\n",
              "      border-top-color: var(--fill-color);\n",
              "    }\n",
              "    60% {\n",
              "      border-color: transparent;\n",
              "      border-right-color: var(--fill-color);\n",
              "    }\n",
              "    80% {\n",
              "      border-color: transparent;\n",
              "      border-right-color: var(--fill-color);\n",
              "      border-bottom-color: var(--fill-color);\n",
              "    }\n",
              "    90% {\n",
              "      border-color: transparent;\n",
              "      border-bottom-color: var(--fill-color);\n",
              "    }\n",
              "  }\n",
              "</style>\n",
              "\n",
              "      <script>\n",
              "        async function quickchart(key) {\n",
              "          const quickchartButtonEl =\n",
              "            document.querySelector('#' + key + ' button');\n",
              "          quickchartButtonEl.disabled = true;  // To prevent multiple clicks.\n",
              "          quickchartButtonEl.classList.add('colab-df-spinner');\n",
              "          try {\n",
              "            const charts = await google.colab.kernel.invokeFunction(\n",
              "                'suggestCharts', [key], {});\n",
              "          } catch (error) {\n",
              "            console.error('Error during call to suggestCharts:', error);\n",
              "          }\n",
              "          quickchartButtonEl.classList.remove('colab-df-spinner');\n",
              "          quickchartButtonEl.classList.add('colab-df-quickchart-complete');\n",
              "        }\n",
              "        (() => {\n",
              "          let quickchartButtonEl =\n",
              "            document.querySelector('#df-5356514d-1d87-41cf-9be7-308a5c938469 button');\n",
              "          quickchartButtonEl.style.display =\n",
              "            google.colab.kernel.accessAllowed ? 'block' : 'none';\n",
              "        })();\n",
              "      </script>\n",
              "    </div>\n",
              "\n",
              "    </div>\n",
              "  </div>\n"
            ],
            "application/vnd.google.colaboratory.intrinsic+json": {
              "type": "dataframe",
              "summary": "{\n  \"name\": \"pd\",\n  \"rows\": 8,\n  \"fields\": [\n    {\n      \"column\": \"item_TV\",\n      \"properties\": {\n        \"dtype\": \"number\",\n        \"std\": 0,\n        \"min\": 0,\n        \"max\": 1,\n        \"num_unique_values\": 2,\n        \"samples\": [\n          0,\n          1\n        ],\n        \"semantic_type\": \"\",\n        \"description\": \"\"\n      }\n    },\n    {\n      \"column\": \"item_\\ub0c9\\uc7a5\\uace0\",\n      \"properties\": {\n        \"dtype\": \"number\",\n        \"std\": 0,\n        \"min\": 0,\n        \"max\": 1,\n        \"num_unique_values\": 2,\n        \"samples\": [\n          1,\n          0\n        ],\n        \"semantic_type\": \"\",\n        \"description\": \"\"\n      }\n    },\n    {\n      \"column\": \"item_\\ubbf9\\uc11c\",\n      \"properties\": {\n        \"dtype\": \"number\",\n        \"std\": 0,\n        \"min\": 0,\n        \"max\": 1,\n        \"num_unique_values\": 2,\n        \"samples\": [\n          1,\n          0\n        ],\n        \"semantic_type\": \"\",\n        \"description\": \"\"\n      }\n    },\n    {\n      \"column\": \"item_\\uc120\\ud48d\\uae30\",\n      \"properties\": {\n        \"dtype\": \"number\",\n        \"std\": 0,\n        \"min\": 0,\n        \"max\": 1,\n        \"num_unique_values\": 2,\n        \"samples\": [\n          1,\n          0\n        ],\n        \"semantic_type\": \"\",\n        \"description\": \"\"\n      }\n    },\n    {\n      \"column\": \"item_\\uc804\\uc790\\ub808\\uc778\\uc9c0\",\n      \"properties\": {\n        \"dtype\": \"number\",\n        \"std\": 0,\n        \"min\": 0,\n        \"max\": 1,\n        \"num_unique_values\": 2,\n        \"samples\": [\n          1,\n          0\n        ],\n        \"semantic_type\": \"\",\n        \"description\": \"\"\n      }\n    },\n    {\n      \"column\": \"item_\\ucef4\\ud4e8\\ud130\",\n      \"properties\": {\n        \"dtype\": \"number\",\n        \"std\": 0,\n        \"min\": 0,\n        \"max\": 1,\n        \"num_unique_values\": 2,\n        \"samples\": [\n          1,\n          0\n        ],\n        \"semantic_type\": \"\",\n        \"description\": \"\"\n      }\n    }\n  ]\n}"
            }
          },
          "metadata": {},
          "execution_count": 12
        }
      ]
    },
    {
      "cell_type": "markdown",
      "source": [
        "###피처 스케일링과 정규화\n",
        "\n",
        "서로 다른 변수 값의 범위를 일정한 수준으로 맞추는 작업\n",
        "1. 표준화\n",
        "데이터의 피처 각각이 평균 0, 분산1인 가우시안 정규 분포를 가진 값으로 변환하는 것![image.png](data:image/png;base64,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)\n",
        "2. 정규화\n",
        "\n",
        "서로 다른 피처의 크기를 통일하기 우해 변환해주는 개념, 즉 개별 데이터를 0-1사이 값으로 변환해 같은 단위로 변경하는 것![image.png](data:image/png;base64,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)\n",
        "\n",
        "*사이킷런 전처리에서 제공하는 Normalizer모듈(벡터 정규화)과 일반적인 정규화의 차이: 개별벡터를 모든 피처 벡터의 크기로 나눠줌![image.png](data:image/png;base64,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)"
      ],
      "metadata": {
        "id": "z9NLJYqGv1bU"
      }
    },
    {
      "cell_type": "markdown",
      "source": [
        "###StandardScaler\n",
        "\n",
        "표준화를 쉽게 지원하기 위한 클래스\n",
        "즉 개별 피처를 평균0, 분산1로 변환\n",
        "\n",
        ">서포트 벡터 머신, 선형 회귀, 로지스틱 회귀 등의 알고리즘은 데이터가 가우시안 분포라는 가정하에 구현됐기에 표준화 중요"
      ],
      "metadata": {
        "id": "9qPp393NxfTJ"
      }
    },
    {
      "cell_type": "code",
      "source": [
        "from sklearn.datasets import load_iris\n",
        "import pandas as pd\n",
        "iris=load_iris()\n",
        "iris_data=iris.data\n",
        "iris_df=pd.DataFrame(data=iris_data,columns=iris.feature_names)\n",
        "print('feature들의 평균 값')\n",
        "print(iris_df.mean())\n",
        "print('\\n feature들의 분산 값')\n",
        "print(iris_df.var())"
      ],
      "metadata": {
        "colab": {
          "base_uri": "https://localhost:8080/"
        },
        "id": "ooYK91UVoTvG",
        "outputId": "29a04c32-96a2-4d40-e600-38c8fa265a30"
      },
      "execution_count": 13,
      "outputs": [
        {
          "output_type": "stream",
          "name": "stdout",
          "text": [
            "feature들의 평균 값\n",
            "sepal length (cm)    5.843333\n",
            "sepal width (cm)     3.057333\n",
            "petal length (cm)    3.758000\n",
            "petal width (cm)     1.199333\n",
            "dtype: float64\n",
            "\n",
            " feature들의 분산 값\n",
            "sepal length (cm)    0.685694\n",
            "sepal width (cm)     0.189979\n",
            "petal length (cm)    3.116278\n",
            "petal width (cm)     0.581006\n",
            "dtype: float64\n"
          ]
        }
      ]
    },
    {
      "cell_type": "code",
      "source": [
        "from sklearn.preprocessing import StandardScaler\n",
        "scaler=StandardScaler()\n",
        "scaler.fit(iris_df)\n",
        "iris_scaled=scaler.transform(iris_df)\n",
        "\n",
        "#transform()시 스케일 변환된 데이터 세트가 numpy ndarray로 반환되므로 DF로 변환\n",
        "iris_df_scaled=pd.DataFrame(data=iris_scaled, columns=iris.feature_names)\n",
        "print('feature들의 평균 값')\n",
        "print(iris_df_scaled.mean())\n",
        "print('\\nfeature들의 분산 값')\n",
        "print(iris_df_scaled.var())\n"
      ],
      "metadata": {
        "colab": {
          "base_uri": "https://localhost:8080/"
        },
        "id": "lvpFvJHGzPsp",
        "outputId": "874d28d7-bcd4-4aaa-8606-27bf5421f75d"
      },
      "execution_count": 14,
      "outputs": [
        {
          "output_type": "stream",
          "name": "stdout",
          "text": [
            "feature들의 평균 값\n",
            "sepal length (cm)   -1.690315e-15\n",
            "sepal width (cm)    -1.842970e-15\n",
            "petal length (cm)   -1.698641e-15\n",
            "petal width (cm)    -1.409243e-15\n",
            "dtype: float64\n",
            "\n",
            "feature들의 분산 값\n",
            "sepal length (cm)    1.006711\n",
            "sepal width (cm)     1.006711\n",
            "petal length (cm)    1.006711\n",
            "petal width (cm)     1.006711\n",
            "dtype: float64\n"
          ]
        }
      ]
    },
    {
      "cell_type": "markdown",
      "source": [
        "###학습 데이터와 테스트 데이터의 스케일링 변환 시 유의점\n",
        "\n",
        "fit(): 데이터 변환을 위한 기준 정보 설정 적용\n",
        "transform():설정된 정보를 이용해 데이터 변환\n",
        "fit_transform(): 이를 한번에 적용\n",
        "\n",
        "**이때 학습 데이터 세트에 사용한 fit()을 그대로 테스트 데이터에 적용해야함**"
      ],
      "metadata": {
        "id": "woVhyPfo1hVl"
      }
    },
    {
      "cell_type": "code",
      "source": [
        "#문제가 생기는 경우\n",
        "from sklearn.preprocessing  import MinMaxScaler\n",
        "import numpy as np\n",
        "\n",
        "train_array=np.arange(0,11).reshape(-1,1)\n",
        "test_array=np.arange(0,6).reshape(-1,1)\n",
        "\n",
        "scaler=MinMaxScaler()\n",
        "scaler.fit(train_array)\n",
        "train_scaled=scaler.transform(train_array)\n",
        "print('원본 train_arry데이터:',np.round(train_array.reshape(-1),2))\n",
        "print('Scale된 train_array데이터: ',np.round(train_scaled.reshape(-1),2))"
      ],
      "metadata": {
        "colab": {
          "base_uri": "https://localhost:8080/"
        },
        "id": "M-EB9fON0Hw4",
        "outputId": "9725b9cc-fd9f-438d-a3cd-36210bacf739"
      },
      "execution_count": 15,
      "outputs": [
        {
          "output_type": "stream",
          "name": "stdout",
          "text": [
            "원본 train_arry데이터: [ 0  1  2  3  4  5  6  7  8  9 10]\n",
            "Scale된 train_array데이터:  [0.  0.1 0.2 0.3 0.4 0.5 0.6 0.7 0.8 0.9 1. ]\n"
          ]
        }
      ]
    },
    {
      "cell_type": "code",
      "source": [
        "scaler.fit(test_array)\n",
        "test_scaled=scaler.transform(test_array)\n",
        "print('원본 test_array데이터: ',np.round(test_array.reshape(-1),2))\n",
        "print('Scale된 test_array 데이터: ',np.round(test_scaled.reshape(-1),2))"
      ],
      "metadata": {
        "colab": {
          "base_uri": "https://localhost:8080/"
        },
        "id": "kvVU0eNW4rLz",
        "outputId": "8a0d4aa7-e9d3-4754-e45f-02b9abaa789d"
      },
      "execution_count": 17,
      "outputs": [
        {
          "output_type": "stream",
          "name": "stdout",
          "text": [
            "원본 test_array데이터:  [0 1 2 3 4 5]\n",
            "Scale된 test_array 데이터:  [0.  0.2 0.4 0.6 0.8 1. ]\n"
          ]
        }
      ]
    },
    {
      "cell_type": "markdown",
      "source": [
        "서로 다른 원본값이 같은 값으로 변환되는 결과 초래\n",
        "테스트데이터는 학습 데이터의 스케일링 기준에 따라야 하며 테스트 데이터의 1값은 학습 데이터와 동일하게 0.1값으로 변환되어야함"
      ],
      "metadata": {
        "id": "gBJoRqIk5Z5F"
      }
    },
    {
      "cell_type": "code",
      "source": [
        "scaler=MinMaxScaler()\n",
        "scaler.fit(train_array)\n",
        "train_scaled=scaler.transform(train_array)\n",
        "print('원본 train_array데이터:',np.round(train_array.reshape(-1),2))\n",
        "print('Scale된 train_array데이터: ',np.round(train_scaled.reshape(-1),2))\n",
        "\n",
        "test_scaled=scaler.transform(test_array)\n",
        "print('원본 test_array데이터: ',np.round(test_array.reshape(-1),2))\n",
        "print('Scale된 test_array 데이터: ',np.round(test_scaled.reshape(-1),2))"
      ],
      "metadata": {
        "colab": {
          "base_uri": "https://localhost:8080/"
        },
        "id": "ZfEp91Ed5N-j",
        "outputId": "cdc63122-9d3e-4465-eeb9-0dadb08b7184"
      },
      "execution_count": 18,
      "outputs": [
        {
          "output_type": "stream",
          "name": "stdout",
          "text": [
            "원본 train_array데이터: [ 0  1  2  3  4  5  6  7  8  9 10]\n",
            "Scale된 train_array데이터:  [0.  0.1 0.2 0.3 0.4 0.5 0.6 0.7 0.8 0.9 1. ]\n",
            "원본 test_array데이터:  [0 1 2 3 4 5]\n",
            "Scale된 test_array 데이터:  [0.  0.1 0.2 0.3 0.4 0.5]\n"
          ]
        }
      ]
    },
    {
      "cell_type": "markdown",
      "source": [
        "fit_transform(): 테스트 데이터에 사용불가, 전체 데이터세트에 스케일링 적용한 뒤 분리하는 것이 바람직함"
      ],
      "metadata": {
        "id": "ob3eSE5h7LpC"
      }
    },
    {
      "cell_type": "markdown",
      "source": [
        "##사이킷런으로 수행하는 타이타닉 생존자 예측"
      ],
      "metadata": {
        "id": "Pf7bPYG-7epH"
      }
    },
    {
      "cell_type": "code",
      "source": [
        "from google.colab import drive\n",
        "drive.mount('/content/drive')"
      ],
      "metadata": {
        "colab": {
          "base_uri": "https://localhost:8080/"
        },
        "id": "aP_tyAdy7BY1",
        "outputId": "d1664fdc-b77e-4317-e2bf-bb0041ec68bb"
      },
      "execution_count": 19,
      "outputs": [
        {
          "output_type": "stream",
          "name": "stdout",
          "text": [
            "Mounted at /content/drive\n"
          ]
        }
      ]
    },
    {
      "cell_type": "code",
      "source": [
        "import numpy as np\n",
        "import pandas as pd\n",
        "import matplotlib.pyplot as plt\n",
        "import seaborn as sns\n",
        "titanic_df=pd.read_csv('/content/drive/MyDrive/ESAA/week4/titanic_train.csv')\n",
        "titanic_df.head(3)"
      ],
      "metadata": {
        "colab": {
          "base_uri": "https://localhost:8080/",
          "height": 319
        },
        "id": "PsYzchDh8SbP",
        "outputId": "47d66a02-c1a4-4079-d61e-783f951404e2"
      },
      "execution_count": 20,
      "outputs": [
        {
          "output_type": "execute_result",
          "data": {
            "text/plain": [
              "   PassengerId  Survived  Pclass  \\\n",
              "0            1         0       3   \n",
              "1            2         1       1   \n",
              "2            3         1       3   \n",
              "\n",
              "                                                Name     Sex   Age  SibSp  \\\n",
              "0                            Braund, Mr. Owen Harris    male  22.0      1   \n",
              "1  Cumings, Mrs. John Bradley (Florence Briggs Th...  female  38.0      1   \n",
              "2                             Heikkinen, Miss. Laina  female  26.0      0   \n",
              "\n",
              "   Parch            Ticket     Fare Cabin Embarked  \n",
              "0      0         A/5 21171   7.2500   NaN        S  \n",
              "1      0          PC 17599  71.2833   C85        C  \n",
              "2      0  STON/O2. 3101282   7.9250   NaN        S  "
            ],
            "text/html": [
              "\n",
              "  <div id=\"df-078cb71b-f584-46d1-a02d-b78136fe1def\" class=\"colab-df-container\">\n",
              "    <div>\n",
              "<style scoped>\n",
              "    .dataframe tbody tr th:only-of-type {\n",
              "        vertical-align: middle;\n",
              "    }\n",
              "\n",
              "    .dataframe tbody tr th {\n",
              "        vertical-align: top;\n",
              "    }\n",
              "\n",
              "    .dataframe thead th {\n",
              "        text-align: right;\n",
              "    }\n",
              "</style>\n",
              "<table border=\"1\" class=\"dataframe\">\n",
              "  <thead>\n",
              "    <tr style=\"text-align: right;\">\n",
              "      <th></th>\n",
              "      <th>PassengerId</th>\n",
              "      <th>Survived</th>\n",
              "      <th>Pclass</th>\n",
              "      <th>Name</th>\n",
              "      <th>Sex</th>\n",
              "      <th>Age</th>\n",
              "      <th>SibSp</th>\n",
              "      <th>Parch</th>\n",
              "      <th>Ticket</th>\n",
              "      <th>Fare</th>\n",
              "      <th>Cabin</th>\n",
              "      <th>Embarked</th>\n",
              "    </tr>\n",
              "  </thead>\n",
              "  <tbody>\n",
              "    <tr>\n",
              "      <th>0</th>\n",
              "      <td>1</td>\n",
              "      <td>0</td>\n",
              "      <td>3</td>\n",
              "      <td>Braund, Mr. Owen Harris</td>\n",
              "      <td>male</td>\n",
              "      <td>22.0</td>\n",
              "      <td>1</td>\n",
              "      <td>0</td>\n",
              "      <td>A/5 21171</td>\n",
              "      <td>7.2500</td>\n",
              "      <td>NaN</td>\n",
              "      <td>S</td>\n",
              "    </tr>\n",
              "    <tr>\n",
              "      <th>1</th>\n",
              "      <td>2</td>\n",
              "      <td>1</td>\n",
              "      <td>1</td>\n",
              "      <td>Cumings, Mrs. John Bradley (Florence Briggs Th...</td>\n",
              "      <td>female</td>\n",
              "      <td>38.0</td>\n",
              "      <td>1</td>\n",
              "      <td>0</td>\n",
              "      <td>PC 17599</td>\n",
              "      <td>71.2833</td>\n",
              "      <td>C85</td>\n",
              "      <td>C</td>\n",
              "    </tr>\n",
              "    <tr>\n",
              "      <th>2</th>\n",
              "      <td>3</td>\n",
              "      <td>1</td>\n",
              "      <td>3</td>\n",
              "      <td>Heikkinen, Miss. Laina</td>\n",
              "      <td>female</td>\n",
              "      <td>26.0</td>\n",
              "      <td>0</td>\n",
              "      <td>0</td>\n",
              "      <td>STON/O2. 3101282</td>\n",
              "      <td>7.9250</td>\n",
              "      <td>NaN</td>\n",
              "      <td>S</td>\n",
              "    </tr>\n",
              "  </tbody>\n",
              "</table>\n",
              "</div>\n",
              "    <div class=\"colab-df-buttons\">\n",
              "\n",
              "  <div class=\"colab-df-container\">\n",
              "    <button class=\"colab-df-convert\" onclick=\"convertToInteractive('df-078cb71b-f584-46d1-a02d-b78136fe1def')\"\n",
              "            title=\"Convert this dataframe to an interactive table.\"\n",
              "            style=\"display:none;\">\n",
              "\n",
              "  <svg xmlns=\"http://www.w3.org/2000/svg\" height=\"24px\" viewBox=\"0 -960 960 960\">\n",
              "    <path d=\"M120-120v-720h720v720H120Zm60-500h600v-160H180v160Zm220 220h160v-160H400v160Zm0 220h160v-160H400v160ZM180-400h160v-160H180v160Zm440 0h160v-160H620v160ZM180-180h160v-160H180v160Zm440 0h160v-160H620v160Z\"/>\n",
              "  </svg>\n",
              "    </button>\n",
              "\n",
              "  <style>\n",
              "    .colab-df-container {\n",
              "      display:flex;\n",
              "      gap: 12px;\n",
              "    }\n",
              "\n",
              "    .colab-df-convert {\n",
              "      background-color: #E8F0FE;\n",
              "      border: none;\n",
              "      border-radius: 50%;\n",
              "      cursor: pointer;\n",
              "      display: none;\n",
              "      fill: #1967D2;\n",
              "      height: 32px;\n",
              "      padding: 0 0 0 0;\n",
              "      width: 32px;\n",
              "    }\n",
              "\n",
              "    .colab-df-convert:hover {\n",
              "      background-color: #E2EBFA;\n",
              "      box-shadow: 0px 1px 2px rgba(60, 64, 67, 0.3), 0px 1px 3px 1px rgba(60, 64, 67, 0.15);\n",
              "      fill: #174EA6;\n",
              "    }\n",
              "\n",
              "    .colab-df-buttons div {\n",
              "      margin-bottom: 4px;\n",
              "    }\n",
              "\n",
              "    [theme=dark] .colab-df-convert {\n",
              "      background-color: #3B4455;\n",
              "      fill: #D2E3FC;\n",
              "    }\n",
              "\n",
              "    [theme=dark] .colab-df-convert:hover {\n",
              "      background-color: #434B5C;\n",
              "      box-shadow: 0px 1px 3px 1px rgba(0, 0, 0, 0.15);\n",
              "      filter: drop-shadow(0px 1px 2px rgba(0, 0, 0, 0.3));\n",
              "      fill: #FFFFFF;\n",
              "    }\n",
              "  </style>\n",
              "\n",
              "    <script>\n",
              "      const buttonEl =\n",
              "        document.querySelector('#df-078cb71b-f584-46d1-a02d-b78136fe1def button.colab-df-convert');\n",
              "      buttonEl.style.display =\n",
              "        google.colab.kernel.accessAllowed ? 'block' : 'none';\n",
              "\n",
              "      async function convertToInteractive(key) {\n",
              "        const element = document.querySelector('#df-078cb71b-f584-46d1-a02d-b78136fe1def');\n",
              "        const dataTable =\n",
              "          await google.colab.kernel.invokeFunction('convertToInteractive',\n",
              "                                                    [key], {});\n",
              "        if (!dataTable) return;\n",
              "\n",
              "        const docLinkHtml = 'Like what you see? Visit the ' +\n",
              "          '<a target=\"_blank\" href=https://colab.research.google.com/notebooks/data_table.ipynb>data table notebook</a>'\n",
              "          + ' to learn more about interactive tables.';\n",
              "        element.innerHTML = '';\n",
              "        dataTable['output_type'] = 'display_data';\n",
              "        await google.colab.output.renderOutput(dataTable, element);\n",
              "        const docLink = document.createElement('div');\n",
              "        docLink.innerHTML = docLinkHtml;\n",
              "        element.appendChild(docLink);\n",
              "      }\n",
              "    </script>\n",
              "  </div>\n",
              "\n",
              "\n",
              "    <div id=\"df-2bfe664c-0ef9-4885-985e-683ffc4f1414\">\n",
              "      <button class=\"colab-df-quickchart\" onclick=\"quickchart('df-2bfe664c-0ef9-4885-985e-683ffc4f1414')\"\n",
              "                title=\"Suggest charts\"\n",
              "                style=\"display:none;\">\n",
              "\n",
              "<svg xmlns=\"http://www.w3.org/2000/svg\" height=\"24px\"viewBox=\"0 0 24 24\"\n",
              "     width=\"24px\">\n",
              "    <g>\n",
              "        <path d=\"M19 3H5c-1.1 0-2 .9-2 2v14c0 1.1.9 2 2 2h14c1.1 0 2-.9 2-2V5c0-1.1-.9-2-2-2zM9 17H7v-7h2v7zm4 0h-2V7h2v10zm4 0h-2v-4h2v4z\"/>\n",
              "    </g>\n",
              "</svg>\n",
              "      </button>\n",
              "\n",
              "<style>\n",
              "  .colab-df-quickchart {\n",
              "      --bg-color: #E8F0FE;\n",
              "      --fill-color: #1967D2;\n",
              "      --hover-bg-color: #E2EBFA;\n",
              "      --hover-fill-color: #174EA6;\n",
              "      --disabled-fill-color: #AAA;\n",
              "      --disabled-bg-color: #DDD;\n",
              "  }\n",
              "\n",
              "  [theme=dark] .colab-df-quickchart {\n",
              "      --bg-color: #3B4455;\n",
              "      --fill-color: #D2E3FC;\n",
              "      --hover-bg-color: #434B5C;\n",
              "      --hover-fill-color: #FFFFFF;\n",
              "      --disabled-bg-color: #3B4455;\n",
              "      --disabled-fill-color: #666;\n",
              "  }\n",
              "\n",
              "  .colab-df-quickchart {\n",
              "    background-color: var(--bg-color);\n",
              "    border: none;\n",
              "    border-radius: 50%;\n",
              "    cursor: pointer;\n",
              "    display: none;\n",
              "    fill: var(--fill-color);\n",
              "    height: 32px;\n",
              "    padding: 0;\n",
              "    width: 32px;\n",
              "  }\n",
              "\n",
              "  .colab-df-quickchart:hover {\n",
              "    background-color: var(--hover-bg-color);\n",
              "    box-shadow: 0 1px 2px rgba(60, 64, 67, 0.3), 0 1px 3px 1px rgba(60, 64, 67, 0.15);\n",
              "    fill: var(--button-hover-fill-color);\n",
              "  }\n",
              "\n",
              "  .colab-df-quickchart-complete:disabled,\n",
              "  .colab-df-quickchart-complete:disabled:hover {\n",
              "    background-color: var(--disabled-bg-color);\n",
              "    fill: var(--disabled-fill-color);\n",
              "    box-shadow: none;\n",
              "  }\n",
              "\n",
              "  .colab-df-spinner {\n",
              "    border: 2px solid var(--fill-color);\n",
              "    border-color: transparent;\n",
              "    border-bottom-color: var(--fill-color);\n",
              "    animation:\n",
              "      spin 1s steps(1) infinite;\n",
              "  }\n",
              "\n",
              "  @keyframes spin {\n",
              "    0% {\n",
              "      border-color: transparent;\n",
              "      border-bottom-color: var(--fill-color);\n",
              "      border-left-color: var(--fill-color);\n",
              "    }\n",
              "    20% {\n",
              "      border-color: transparent;\n",
              "      border-left-color: var(--fill-color);\n",
              "      border-top-color: var(--fill-color);\n",
              "    }\n",
              "    30% {\n",
              "      border-color: transparent;\n",
              "      border-left-color: var(--fill-color);\n",
              "      border-top-color: var(--fill-color);\n",
              "      border-right-color: var(--fill-color);\n",
              "    }\n",
              "    40% {\n",
              "      border-color: transparent;\n",
              "      border-right-color: var(--fill-color);\n",
              "      border-top-color: var(--fill-color);\n",
              "    }\n",
              "    60% {\n",
              "      border-color: transparent;\n",
              "      border-right-color: var(--fill-color);\n",
              "    }\n",
              "    80% {\n",
              "      border-color: transparent;\n",
              "      border-right-color: var(--fill-color);\n",
              "      border-bottom-color: var(--fill-color);\n",
              "    }\n",
              "    90% {\n",
              "      border-color: transparent;\n",
              "      border-bottom-color: var(--fill-color);\n",
              "    }\n",
              "  }\n",
              "</style>\n",
              "\n",
              "      <script>\n",
              "        async function quickchart(key) {\n",
              "          const quickchartButtonEl =\n",
              "            document.querySelector('#' + key + ' button');\n",
              "          quickchartButtonEl.disabled = true;  // To prevent multiple clicks.\n",
              "          quickchartButtonEl.classList.add('colab-df-spinner');\n",
              "          try {\n",
              "            const charts = await google.colab.kernel.invokeFunction(\n",
              "                'suggestCharts', [key], {});\n",
              "          } catch (error) {\n",
              "            console.error('Error during call to suggestCharts:', error);\n",
              "          }\n",
              "          quickchartButtonEl.classList.remove('colab-df-spinner');\n",
              "          quickchartButtonEl.classList.add('colab-df-quickchart-complete');\n",
              "        }\n",
              "        (() => {\n",
              "          let quickchartButtonEl =\n",
              "            document.querySelector('#df-2bfe664c-0ef9-4885-985e-683ffc4f1414 button');\n",
              "          quickchartButtonEl.style.display =\n",
              "            google.colab.kernel.accessAllowed ? 'block' : 'none';\n",
              "        })();\n",
              "      </script>\n",
              "    </div>\n",
              "\n",
              "    </div>\n",
              "  </div>\n"
            ],
            "application/vnd.google.colaboratory.intrinsic+json": {
              "type": "dataframe",
              "variable_name": "titanic_df",
              "summary": "{\n  \"name\": \"titanic_df\",\n  \"rows\": 891,\n  \"fields\": [\n    {\n      \"column\": \"PassengerId\",\n      \"properties\": {\n        \"dtype\": \"number\",\n        \"std\": 257,\n        \"min\": 1,\n        \"max\": 891,\n        \"num_unique_values\": 891,\n        \"samples\": [\n          710,\n          440,\n          841\n        ],\n        \"semantic_type\": \"\",\n        \"description\": \"\"\n      }\n    },\n    {\n      \"column\": \"Survived\",\n      \"properties\": {\n        \"dtype\": \"number\",\n        \"std\": 0,\n        \"min\": 0,\n        \"max\": 1,\n        \"num_unique_values\": 2,\n        \"samples\": [\n          1,\n          0\n        ],\n        \"semantic_type\": \"\",\n        \"description\": \"\"\n      }\n    },\n    {\n      \"column\": \"Pclass\",\n      \"properties\": {\n        \"dtype\": \"number\",\n        \"std\": 0,\n        \"min\": 1,\n        \"max\": 3,\n        \"num_unique_values\": 3,\n        \"samples\": [\n          3,\n          1\n        ],\n        \"semantic_type\": \"\",\n        \"description\": \"\"\n      }\n    },\n    {\n      \"column\": \"Name\",\n      \"properties\": {\n        \"dtype\": \"string\",\n        \"num_unique_values\": 891,\n        \"samples\": [\n          \"Moubarek, Master. Halim Gonios (\\\"William George\\\")\",\n          \"Kvillner, Mr. Johan Henrik Johannesson\"\n        ],\n        \"semantic_type\": \"\",\n        \"description\": \"\"\n      }\n    },\n    {\n      \"column\": \"Sex\",\n      \"properties\": {\n        \"dtype\": \"category\",\n        \"num_unique_values\": 2,\n        \"samples\": [\n          \"female\",\n          \"male\"\n        ],\n        \"semantic_type\": \"\",\n        \"description\": \"\"\n      }\n    },\n    {\n      \"column\": \"Age\",\n      \"properties\": {\n        \"dtype\": \"number\",\n        \"std\": 14.526497332334044,\n        \"min\": 0.42,\n        \"max\": 80.0,\n        \"num_unique_values\": 88,\n        \"samples\": [\n          0.75,\n          22.0\n        ],\n        \"semantic_type\": \"\",\n        \"description\": \"\"\n      }\n    },\n    {\n      \"column\": \"SibSp\",\n      \"properties\": {\n        \"dtype\": \"number\",\n        \"std\": 1,\n        \"min\": 0,\n        \"max\": 8,\n        \"num_unique_values\": 7,\n        \"samples\": [\n          1,\n          0\n        ],\n        \"semantic_type\": \"\",\n        \"description\": \"\"\n      }\n    },\n    {\n      \"column\": \"Parch\",\n      \"properties\": {\n        \"dtype\": \"number\",\n        \"std\": 0,\n        \"min\": 0,\n        \"max\": 6,\n        \"num_unique_values\": 7,\n        \"samples\": [\n          0,\n          1\n        ],\n        \"semantic_type\": \"\",\n        \"description\": \"\"\n      }\n    },\n    {\n      \"column\": \"Ticket\",\n      \"properties\": {\n        \"dtype\": \"string\",\n        \"num_unique_values\": 681,\n        \"samples\": [\n          \"11774\",\n          \"248740\"\n        ],\n        \"semantic_type\": \"\",\n        \"description\": \"\"\n      }\n    },\n    {\n      \"column\": \"Fare\",\n      \"properties\": {\n        \"dtype\": \"number\",\n        \"std\": 49.693428597180905,\n        \"min\": 0.0,\n        \"max\": 512.3292,\n        \"num_unique_values\": 248,\n        \"samples\": [\n          11.2417,\n          51.8625\n        ],\n        \"semantic_type\": \"\",\n        \"description\": \"\"\n      }\n    },\n    {\n      \"column\": \"Cabin\",\n      \"properties\": {\n        \"dtype\": \"category\",\n        \"num_unique_values\": 147,\n        \"samples\": [\n          \"D45\",\n          \"B49\"\n        ],\n        \"semantic_type\": \"\",\n        \"description\": \"\"\n      }\n    },\n    {\n      \"column\": \"Embarked\",\n      \"properties\": {\n        \"dtype\": \"category\",\n        \"num_unique_values\": 3,\n        \"samples\": [\n          \"S\",\n          \"C\"\n        ],\n        \"semantic_type\": \"\",\n        \"description\": \"\"\n      }\n    }\n  ]\n}"
            }
          },
          "metadata": {},
          "execution_count": 20
        }
      ]
    },
    {
      "cell_type": "code",
      "source": [
        "print('\\n ###학습 데이터 정보###\\n')\n",
        "print(titanic_df.info())"
      ],
      "metadata": {
        "colab": {
          "base_uri": "https://localhost:8080/"
        },
        "id": "sa7XM7Ko8zfG",
        "outputId": "5af5e2cd-8e9d-494d-a2e2-356b6bb633f4"
      },
      "execution_count": 22,
      "outputs": [
        {
          "output_type": "stream",
          "name": "stdout",
          "text": [
            "\n",
            " ###학습 데이터 정보###\n",
            "\n",
            "<class 'pandas.core.frame.DataFrame'>\n",
            "RangeIndex: 891 entries, 0 to 890\n",
            "Data columns (total 12 columns):\n",
            " #   Column       Non-Null Count  Dtype  \n",
            "---  ------       --------------  -----  \n",
            " 0   PassengerId  891 non-null    int64  \n",
            " 1   Survived     891 non-null    int64  \n",
            " 2   Pclass       891 non-null    int64  \n",
            " 3   Name         891 non-null    object \n",
            " 4   Sex          891 non-null    object \n",
            " 5   Age          714 non-null    float64\n",
            " 6   SibSp        891 non-null    int64  \n",
            " 7   Parch        891 non-null    int64  \n",
            " 8   Ticket       891 non-null    object \n",
            " 9   Fare         891 non-null    float64\n",
            " 10  Cabin        204 non-null    object \n",
            " 11  Embarked     889 non-null    object \n",
            "dtypes: float64(2), int64(5), object(5)\n",
            "memory usage: 83.7+ KB\n",
            "None\n"
          ]
        }
      ]
    },
    {
      "cell_type": "code",
      "source": [
        "titanic_df['Age'].fillna(titanic_df['Age'].mean(),inplace=True)\n",
        "titanic_df['Cabin'].fillna('N',inplace=True)\n",
        "titanic_df['Embarked'].fillna('N',inplace=True)\n",
        "print('데이터 세트 Null값 개수',titanic_df.isnull().sum().sum())"
      ],
      "metadata": {
        "colab": {
          "base_uri": "https://localhost:8080/"
        },
        "id": "z-lJA9j08_Kb",
        "outputId": "d6cb1d49-bfa4-4bcc-fbe6-33bc375c437b"
      },
      "execution_count": 23,
      "outputs": [
        {
          "output_type": "stream",
          "name": "stdout",
          "text": [
            "데이터 세트 Null값 개수 0\n"
          ]
        },
        {
          "output_type": "stream",
          "name": "stderr",
          "text": [
            "/tmp/ipython-input-2168752985.py:1: FutureWarning: A value is trying to be set on a copy of a DataFrame or Series through chained assignment using an inplace method.\n",
            "The behavior will change in pandas 3.0. This inplace method will never work because the intermediate object on which we are setting values always behaves as a copy.\n",
            "\n",
            "For example, when doing 'df[col].method(value, inplace=True)', try using 'df.method({col: value}, inplace=True)' or df[col] = df[col].method(value) instead, to perform the operation inplace on the original object.\n",
            "\n",
            "\n",
            "  titanic_df['Age'].fillna(titanic_df['Age'].mean(),inplace=True)\n",
            "/tmp/ipython-input-2168752985.py:2: FutureWarning: A value is trying to be set on a copy of a DataFrame or Series through chained assignment using an inplace method.\n",
            "The behavior will change in pandas 3.0. This inplace method will never work because the intermediate object on which we are setting values always behaves as a copy.\n",
            "\n",
            "For example, when doing 'df[col].method(value, inplace=True)', try using 'df.method({col: value}, inplace=True)' or df[col] = df[col].method(value) instead, to perform the operation inplace on the original object.\n",
            "\n",
            "\n",
            "  titanic_df['Cabin'].fillna('N',inplace=True)\n",
            "/tmp/ipython-input-2168752985.py:3: FutureWarning: A value is trying to be set on a copy of a DataFrame or Series through chained assignment using an inplace method.\n",
            "The behavior will change in pandas 3.0. This inplace method will never work because the intermediate object on which we are setting values always behaves as a copy.\n",
            "\n",
            "For example, when doing 'df[col].method(value, inplace=True)', try using 'df.method({col: value}, inplace=True)' or df[col] = df[col].method(value) instead, to perform the operation inplace on the original object.\n",
            "\n",
            "\n",
            "  titanic_df['Embarked'].fillna('N',inplace=True)\n"
          ]
        }
      ]
    },
    {
      "cell_type": "markdown",
      "source": [
        "문자열 피처들의 분류 살펴보기"
      ],
      "metadata": {
        "id": "wkivo5eQ_ZUD"
      }
    },
    {
      "cell_type": "code",
      "source": [
        "print('sex값 분포: \\n',titanic_df['Sex'].value_counts())\n",
        "print('\\ncabin값 분포: \\n',titanic_df['Cabin'].value_counts())\n",
        "print('\\nembarked값 분포: \\n',titanic_df['Embarked'].value_counts())"
      ],
      "metadata": {
        "colab": {
          "base_uri": "https://localhost:8080/"
        },
        "id": "R7fvC2nU_IjY",
        "outputId": "fcaf3550-68a9-4a8e-e754-b349243d43e6"
      },
      "execution_count": 25,
      "outputs": [
        {
          "output_type": "stream",
          "name": "stdout",
          "text": [
            "sex값 분포: \n",
            " Sex\n",
            "male      577\n",
            "female    314\n",
            "Name: count, dtype: int64\n",
            "\n",
            "cabin값 분포: \n",
            " Cabin\n",
            "N              687\n",
            "G6               4\n",
            "C23 C25 C27      4\n",
            "B96 B98          4\n",
            "F2               3\n",
            "              ... \n",
            "E17              1\n",
            "A24              1\n",
            "C50              1\n",
            "B42              1\n",
            "C148             1\n",
            "Name: count, Length: 148, dtype: int64\n",
            "\n",
            "embarked값 분포: \n",
            " Embarked\n",
            "S    644\n",
            "C    168\n",
            "Q     77\n",
            "N      2\n",
            "Name: count, dtype: int64\n"
          ]
        }
      ]
    },
    {
      "cell_type": "markdown",
      "source": [
        "cabin의 경우 속성 정리 필요: 앞글자만 추출"
      ],
      "metadata": {
        "id": "ZIjvFaos_w31"
      }
    },
    {
      "cell_type": "code",
      "source": [
        "titanic_df['Cabin']=titanic_df['Cabin'].str[:1]\n",
        "print(titanic_df['Cabin'].head(3))"
      ],
      "metadata": {
        "colab": {
          "base_uri": "https://localhost:8080/"
        },
        "id": "pQJvQw8z_mqg",
        "outputId": "b4d113de-51ab-407f-f526-4734c63af123"
      },
      "execution_count": 27,
      "outputs": [
        {
          "output_type": "stream",
          "name": "stdout",
          "text": [
            "0    N\n",
            "1    C\n",
            "2    N\n",
            "Name: Cabin, dtype: object\n"
          ]
        }
      ]
    },
    {
      "cell_type": "markdown",
      "source": [
        "성별에 따른 생존자 수 비교"
      ],
      "metadata": {
        "id": "BibMtgNxAMOq"
      }
    },
    {
      "cell_type": "code",
      "source": [
        "titanic_df.groupby(['Sex','Survived'])['Survived'].count()"
      ],
      "metadata": {
        "colab": {
          "base_uri": "https://localhost:8080/",
          "height": 241
        },
        "id": "XoeIEyitADVe",
        "outputId": "888ffd54-4f00-4e51-cd18-e51eb8fc7050"
      },
      "execution_count": 28,
      "outputs": [
        {
          "output_type": "execute_result",
          "data": {
            "text/plain": [
              "Sex     Survived\n",
              "female  0            81\n",
              "        1           233\n",
              "male    0           468\n",
              "        1           109\n",
              "Name: Survived, dtype: int64"
            ],
            "text/html": [
              "<div>\n",
              "<style scoped>\n",
              "    .dataframe tbody tr th:only-of-type {\n",
              "        vertical-align: middle;\n",
              "    }\n",
              "\n",
              "    .dataframe tbody tr th {\n",
              "        vertical-align: top;\n",
              "    }\n",
              "\n",
              "    .dataframe thead th {\n",
              "        text-align: right;\n",
              "    }\n",
              "</style>\n",
              "<table border=\"1\" class=\"dataframe\">\n",
              "  <thead>\n",
              "    <tr style=\"text-align: right;\">\n",
              "      <th></th>\n",
              "      <th></th>\n",
              "      <th>Survived</th>\n",
              "    </tr>\n",
              "    <tr>\n",
              "      <th>Sex</th>\n",
              "      <th>Survived</th>\n",
              "      <th></th>\n",
              "    </tr>\n",
              "  </thead>\n",
              "  <tbody>\n",
              "    <tr>\n",
              "      <th rowspan=\"2\" valign=\"top\">female</th>\n",
              "      <th>0</th>\n",
              "      <td>81</td>\n",
              "    </tr>\n",
              "    <tr>\n",
              "      <th>1</th>\n",
              "      <td>233</td>\n",
              "    </tr>\n",
              "    <tr>\n",
              "      <th rowspan=\"2\" valign=\"top\">male</th>\n",
              "      <th>0</th>\n",
              "      <td>468</td>\n",
              "    </tr>\n",
              "    <tr>\n",
              "      <th>1</th>\n",
              "      <td>109</td>\n",
              "    </tr>\n",
              "  </tbody>\n",
              "</table>\n",
              "</div><br><label><b>dtype:</b> int64</label>"
            ]
          },
          "metadata": {},
          "execution_count": 28
        }
      ]
    },
    {
      "cell_type": "markdown",
      "source": [
        "여성 74.2%생존, 남성 18.8%생존\n",
        "\n",
        "시각화"
      ],
      "metadata": {
        "id": "VM2lFFW1AmRm"
      }
    },
    {
      "cell_type": "code",
      "source": [
        "sns.barplot(x='Sex',y='Survived',data=titanic_df)"
      ],
      "metadata": {
        "colab": {
          "base_uri": "https://localhost:8080/",
          "height": 467
        },
        "id": "RT1oO4txAbEu",
        "outputId": "0e12688f-55d7-461a-86c6-f1e2f40ced23"
      },
      "execution_count": 29,
      "outputs": [
        {
          "output_type": "execute_result",
          "data": {
            "text/plain": [
              "<Axes: xlabel='Sex', ylabel='Survived'>"
            ]
          },
          "metadata": {},
          "execution_count": 29
        },
        {
          "output_type": "display_data",
          "data": {
            "text/plain": [
              "<Figure size 640x480 with 1 Axes>"
            ],
            "image/png": "[encoded data removed]"
          },
          "metadata": {}
        }
      ]
    },
    {
      "cell_type": "code",
      "source": [
        "#부자와 가난한 사람\n",
        "sns.barplot(x='Pclass',y='Survived',hue='Sex',data=titanic_df)"
      ],
      "metadata": {
        "colab": {
          "base_uri": "https://localhost:8080/",
          "height": 467
        },
        "id": "xypitCnuA26u",
        "outputId": "fa47cf3c-dadb-4f21-a1a0-d8f8140d3139"
      },
      "execution_count": 30,
      "outputs": [
        {
          "output_type": "execute_result",
          "data": {
            "text/plain": [
              "<Axes: xlabel='Pclass', ylabel='Survived'>"
            ]
          },
          "metadata": {},
          "execution_count": 30
        },
        {
          "output_type": "display_data",
          "data": {
            "text/plain": [
              "<Figure size 640x480 with 1 Axes>"
            ],
            "image/png": "[encoded data removed]"
          },
          "metadata": {}
        }
      ]
    },
    {
      "cell_type": "markdown",
      "source": [
        "age에 따른 생존 확률\n",
        "\n",
        "카테고리 할당"
      ],
      "metadata": {
        "id": "qGFxazG-BZOU"
      }
    },
    {
      "cell_type": "code",
      "source": [
        "def get_category(age):\n",
        "  cat=''\n",
        "  if age<=-1: cat='Unknown'\n",
        "  elif age <=5: cat='Baby'\n",
        "  elif age <=12: cat='Child'\n",
        "  elif age <=18: cat='Teenager'\n",
        "  elif age <=25: cat='Student'\n",
        "  elif age <=35: cat='Young Adult'\n",
        "  elif age <=60: cat='Adult'\n",
        "  else: cat='Elderly'\n",
        "  return cat\n",
        "plt.figure(figsize=(10,6))\n",
        "group_names=['Unknown','Baby','Child','Teenager','Student','Young Adult','Adult','Elderly']\n",
        "titanic_df['Age_cat']=titanic_df['Age'].apply(lambda x: get_category(x))\n",
        "sns.barplot(x='Age_cat',y='Survived',hue='Sex',data=titanic_df,order=group_names)\n",
        "titanic_df.drop('Age_cat',axis=1,inplace=True)"
      ],
      "metadata": {
        "colab": {
          "base_uri": "https://localhost:8080/",
          "height": 412
        },
        "id": "9PURyn_yBFfK",
        "outputId": "22bf8382-e552-4fc5-b6e5-0984e1805d13"
      },
      "execution_count": 33,
      "outputs": [
        {
          "output_type": "display_data",
          "data": {
            "text/plain": [
              "<Figure size 1000x600 with 1 Axes>"
            ],
            "image/png": "[encoded data removed]"
          },
          "metadata": {}
        }
      ]
    },
    {
      "cell_type": "markdown",
      "source": [
        "baby생존확률 비교적 높고 child는 낮음, elderly는 매우 생존확률 높음\n",
        "\n",
        "sex,age,pclass등이 중요하게 생존을 좌우하는 피처임을 확인\n",
        "\n",
        "남은 카테고리 피처를 숫자형 카테고리로 변환"
      ],
      "metadata": {
        "id": "IEZ1h4rpC0IG"
      }
    },
    {
      "cell_type": "code",
      "source": [
        "from sklearn.preprocessing import LabelEncoder\n",
        "def encode_features(dataDF):\n",
        "  features=['Cabin','Sex','Embarked']\n",
        "  for feature in features:\n",
        "    le=LabelEncoder()\n",
        "    le=le.fit(dataDF[feature])\n",
        "    dataDF[feature]=le.transform(dataDF[feature])\n",
        "  return dataDF\n",
        "titanic_df=encode_features(titanic_df)\n",
        "titanic_df.head()\n",
        ""
      ],
      "metadata": {
        "colab": {
          "base_uri": "https://localhost:8080/",
          "height": 504
        },
        "id": "PvA2dyJMCj24",
        "outputId": "beb1967a-b826-4794-fcb2-b46d484055f7"
      },
      "execution_count": 34,
      "outputs": [
        {
          "output_type": "execute_result",
          "data": {
            "text/plain": [
              "   PassengerId  Survived  Pclass  \\\n",
              "0            1         0       3   \n",
              "1            2         1       1   \n",
              "2            3         1       3   \n",
              "3            4         1       1   \n",
              "4            5         0       3   \n",
              "\n",
              "                                                Name  Sex   Age  SibSp  Parch  \\\n",
              "0                            Braund, Mr. Owen Harris    1  22.0      1      0   \n",
              "1  Cumings, Mrs. John Bradley (Florence Briggs Th...    0  38.0      1      0   \n",
              "2                             Heikkinen, Miss. Laina    0  26.0      0      0   \n",
              "3       Futrelle, Mrs. Jacques Heath (Lily May Peel)    0  35.0      1      0   \n",
              "4                           Allen, Mr. William Henry    1  35.0      0      0   \n",
              "\n",
              "             Ticket     Fare  Cabin  Embarked  \n",
              "0         A/5 21171   7.2500      7         3  \n",
              "1          PC 17599  71.2833      2         0  \n",
              "2  STON/O2. 3101282   7.9250      7         3  \n",
              "3            113803  53.1000      2         3  \n",
              "4            373450   8.0500      7         3  "
            ],
            "text/html": [
              "\n",
              "  <div id=\"df-0d0c6e4a-bff0-437a-828a-817c3f606ea2\" class=\"colab-df-container\">\n",
              "    <div>\n",
              "<style scoped>\n",
              "    .dataframe tbody tr th:only-of-type {\n",
              "        vertical-align: middle;\n",
              "    }\n",
              "\n",
              "    .dataframe tbody tr th {\n",
              "        vertical-align: top;\n",
              "    }\n",
              "\n",
              "    .dataframe thead th {\n",
              "        text-align: right;\n",
              "    }\n",
              "</style>\n",
              "<table border=\"1\" class=\"dataframe\">\n",
              "  <thead>\n",
              "    <tr style=\"text-align: right;\">\n",
              "      <th></th>\n",
              "      <th>PassengerId</th>\n",
              "      <th>Survived</th>\n",
              "      <th>Pclass</th>\n",
              "      <th>Name</th>\n",
              "      <th>Sex</th>\n",
              "      <th>Age</th>\n",
              "      <th>SibSp</th>\n",
              "      <th>Parch</th>\n",
              "      <th>Ticket</th>\n",
              "      <th>Fare</th>\n",
              "      <th>Cabin</th>\n",
              "      <th>Embarked</th>\n",
              "    </tr>\n",
              "  </thead>\n",
              "  <tbody>\n",
              "    <tr>\n",
              "      <th>0</th>\n",
              "      <td>1</td>\n",
              "      <td>0</td>\n",
              "      <td>3</td>\n",
              "      <td>Braund, Mr. Owen Harris</td>\n",
              "      <td>1</td>\n",
              "      <td>22.0</td>\n",
              "      <td>1</td>\n",
              "      <td>0</td>\n",
              "      <td>A/5 21171</td>\n",
              "      <td>7.2500</td>\n",
              "      <td>7</td>\n",
              "      <td>3</td>\n",
              "    </tr>\n",
              "    <tr>\n",
              "      <th>1</th>\n",
              "      <td>2</td>\n",
              "      <td>1</td>\n",
              "      <td>1</td>\n",
              "      <td>Cumings, Mrs. John Bradley (Florence Briggs Th...</td>\n",
              "      <td>0</td>\n",
              "      <td>38.0</td>\n",
              "      <td>1</td>\n",
              "      <td>0</td>\n",
              "      <td>PC 17599</td>\n",
              "      <td>71.2833</td>\n",
              "      <td>2</td>\n",
              "      <td>0</td>\n",
              "    </tr>\n",
              "    <tr>\n",
              "      <th>2</th>\n",
              "      <td>3</td>\n",
              "      <td>1</td>\n",
              "      <td>3</td>\n",
              "      <td>Heikkinen, Miss. Laina</td>\n",
              "      <td>0</td>\n",
              "      <td>26.0</td>\n",
              "      <td>0</td>\n",
              "      <td>0</td>\n",
              "      <td>STON/O2. 3101282</td>\n",
              "      <td>7.9250</td>\n",
              "      <td>7</td>\n",
              "      <td>3</td>\n",
              "    </tr>\n",
              "    <tr>\n",
              "      <th>3</th>\n",
              "      <td>4</td>\n",
              "      <td>1</td>\n",
              "      <td>1</td>\n",
              "      <td>Futrelle, Mrs. Jacques Heath (Lily May Peel)</td>\n",
              "      <td>0</td>\n",
              "      <td>35.0</td>\n",
              "      <td>1</td>\n",
              "      <td>0</td>\n",
              "      <td>113803</td>\n",
              "      <td>53.1000</td>\n",
              "      <td>2</td>\n",
              "      <td>3</td>\n",
              "    </tr>\n",
              "    <tr>\n",
              "      <th>4</th>\n",
              "      <td>5</td>\n",
              "      <td>0</td>\n",
              "      <td>3</td>\n",
              "      <td>Allen, Mr. William Henry</td>\n",
              "      <td>1</td>\n",
              "      <td>35.0</td>\n",
              "      <td>0</td>\n",
              "      <td>0</td>\n",
              "      <td>373450</td>\n",
              "      <td>8.0500</td>\n",
              "      <td>7</td>\n",
              "      <td>3</td>\n",
              "    </tr>\n",
              "  </tbody>\n",
              "</table>\n",
              "</div>\n",
              "    <div class=\"colab-df-buttons\">\n",
              "\n",
              "  <div class=\"colab-df-container\">\n",
              "    <button class=\"colab-df-convert\" onclick=\"convertToInteractive('df-0d0c6e4a-bff0-437a-828a-817c3f606ea2')\"\n",
              "            title=\"Convert this dataframe to an interactive table.\"\n",
              "            style=\"display:none;\">\n",
              "\n",
              "  <svg xmlns=\"http://www.w3.org/2000/svg\" height=\"24px\" viewBox=\"0 -960 960 960\">\n",
              "    <path d=\"M120-120v-720h720v720H120Zm60-500h600v-160H180v160Zm220 220h160v-160H400v160Zm0 220h160v-160H400v160ZM180-400h160v-160H180v160Zm440 0h160v-160H620v160ZM180-180h160v-160H180v160Zm440 0h160v-160H620v160Z\"/>\n",
              "  </svg>\n",
              "    </button>\n",
              "\n",
              "  <style>\n",
              "    .colab-df-container {\n",
              "      display:flex;\n",
              "      gap: 12px;\n",
              "    }\n",
              "\n",
              "    .colab-df-convert {\n",
              "      background-color: #E8F0FE;\n",
              "      border: none;\n",
              "      border-radius: 50%;\n",
              "      cursor: pointer;\n",
              "      display: none;\n",
              "      fill: #1967D2;\n",
              "      height: 32px;\n",
              "      padding: 0 0 0 0;\n",
              "      width: 32px;\n",
              "    }\n",
              "\n",
              "    .colab-df-convert:hover {\n",
              "      background-color: #E2EBFA;\n",
              "      box-shadow: 0px 1px 2px rgba(60, 64, 67, 0.3), 0px 1px 3px 1px rgba(60, 64, 67, 0.15);\n",
              "      fill: #174EA6;\n",
              "    }\n",
              "\n",
              "    .colab-df-buttons div {\n",
              "      margin-bottom: 4px;\n",
              "    }\n",
              "\n",
              "    [theme=dark] .colab-df-convert {\n",
              "      background-color: #3B4455;\n",
              "      fill: #D2E3FC;\n",
              "    }\n",
              "\n",
              "    [theme=dark] .colab-df-convert:hover {\n",
              "      background-color: #434B5C;\n",
              "      box-shadow: 0px 1px 3px 1px rgba(0, 0, 0, 0.15);\n",
              "      filter: drop-shadow(0px 1px 2px rgba(0, 0, 0, 0.3));\n",
              "      fill: #FFFFFF;\n",
              "    }\n",
              "  </style>\n",
              "\n",
              "    <script>\n",
              "      const buttonEl =\n",
              "        document.querySelector('#df-0d0c6e4a-bff0-437a-828a-817c3f606ea2 button.colab-df-convert');\n",
              "      buttonEl.style.display =\n",
              "        google.colab.kernel.accessAllowed ? 'block' : 'none';\n",
              "\n",
              "      async function convertToInteractive(key) {\n",
              "        const element = document.querySelector('#df-0d0c6e4a-bff0-437a-828a-817c3f606ea2');\n",
              "        const dataTable =\n",
              "          await google.colab.kernel.invokeFunction('convertToInteractive',\n",
              "                                                    [key], {});\n",
              "        if (!dataTable) return;\n",
              "\n",
              "        const docLinkHtml = 'Like what you see? Visit the ' +\n",
              "          '<a target=\"_blank\" href=https://colab.research.google.com/notebooks/data_table.ipynb>data table notebook</a>'\n",
              "          + ' to learn more about interactive tables.';\n",
              "        element.innerHTML = '';\n",
              "        dataTable['output_type'] = 'display_data';\n",
              "        await google.colab.output.renderOutput(dataTable, element);\n",
              "        const docLink = document.createElement('div');\n",
              "        docLink.innerHTML = docLinkHtml;\n",
              "        element.appendChild(docLink);\n",
              "      }\n",
              "    </script>\n",
              "  </div>\n",
              "\n",
              "\n",
              "    <div id=\"df-9f81d4ef-73bd-47a5-bb78-2995c1a8794e\">\n",
              "      <button class=\"colab-df-quickchart\" onclick=\"quickchart('df-9f81d4ef-73bd-47a5-bb78-2995c1a8794e')\"\n",
              "                title=\"Suggest charts\"\n",
              "                style=\"display:none;\">\n",
              "\n",
              "<svg xmlns=\"http://www.w3.org/2000/svg\" height=\"24px\"viewBox=\"0 0 24 24\"\n",
              "     width=\"24px\">\n",
              "    <g>\n",
              "        <path d=\"M19 3H5c-1.1 0-2 .9-2 2v14c0 1.1.9 2 2 2h14c1.1 0 2-.9 2-2V5c0-1.1-.9-2-2-2zM9 17H7v-7h2v7zm4 0h-2V7h2v10zm4 0h-2v-4h2v4z\"/>\n",
              "    </g>\n",
              "</svg>\n",
              "      </button>\n",
              "\n",
              "<style>\n",
              "  .colab-df-quickchart {\n",
              "      --bg-color: #E8F0FE;\n",
              "      --fill-color: #1967D2;\n",
              "      --hover-bg-color: #E2EBFA;\n",
              "      --hover-fill-color: #174EA6;\n",
              "      --disabled-fill-color: #AAA;\n",
              "      --disabled-bg-color: #DDD;\n",
              "  }\n",
              "\n",
              "  [theme=dark] .colab-df-quickchart {\n",
              "      --bg-color: #3B4455;\n",
              "      --fill-color: #D2E3FC;\n",
              "      --hover-bg-color: #434B5C;\n",
              "      --hover-fill-color: #FFFFFF;\n",
              "      --disabled-bg-color: #3B4455;\n",
              "      --disabled-fill-color: #666;\n",
              "  }\n",
              "\n",
              "  .colab-df-quickchart {\n",
              "    background-color: var(--bg-color);\n",
              "    border: none;\n",
              "    border-radius: 50%;\n",
              "    cursor: pointer;\n",
              "    display: none;\n",
              "    fill: var(--fill-color);\n",
              "    height: 32px;\n",
              "    padding: 0;\n",
              "    width: 32px;\n",
              "  }\n",
              "\n",
              "  .colab-df-quickchart:hover {\n",
              "    background-color: var(--hover-bg-color);\n",
              "    box-shadow: 0 1px 2px rgba(60, 64, 67, 0.3), 0 1px 3px 1px rgba(60, 64, 67, 0.15);\n",
              "    fill: var(--button-hover-fill-color);\n",
              "  }\n",
              "\n",
              "  .colab-df-quickchart-complete:disabled,\n",
              "  .colab-df-quickchart-complete:disabled:hover {\n",
              "    background-color: var(--disabled-bg-color);\n",
              "    fill: var(--disabled-fill-color);\n",
              "    box-shadow: none;\n",
              "  }\n",
              "\n",
              "  .colab-df-spinner {\n",
              "    border: 2px solid var(--fill-color);\n",
              "    border-color: transparent;\n",
              "    border-bottom-color: var(--fill-color);\n",
              "    animation:\n",
              "      spin 1s steps(1) infinite;\n",
              "  }\n",
              "\n",
              "  @keyframes spin {\n",
              "    0% {\n",
              "      border-color: transparent;\n",
              "      border-bottom-color: var(--fill-color);\n",
              "      border-left-color: var(--fill-color);\n",
              "    }\n",
              "    20% {\n",
              "      border-color: transparent;\n",
              "      border-left-color: var(--fill-color);\n",
              "      border-top-color: var(--fill-color);\n",
              "    }\n",
              "    30% {\n",
              "      border-color: transparent;\n",
              "      border-left-color: var(--fill-color);\n",
              "      border-top-color: var(--fill-color);\n",
              "      border-right-color: var(--fill-color);\n",
              "    }\n",
              "    40% {\n",
              "      border-color: transparent;\n",
              "      border-right-color: var(--fill-color);\n",
              "      border-top-color: var(--fill-color);\n",
              "    }\n",
              "    60% {\n",
              "      border-color: transparent;\n",
              "      border-right-color: var(--fill-color);\n",
              "    }\n",
              "    80% {\n",
              "      border-color: transparent;\n",
              "      border-right-color: var(--fill-color);\n",
              "      border-bottom-color: var(--fill-color);\n",
              "    }\n",
              "    90% {\n",
              "      border-color: transparent;\n",
              "      border-bottom-color: var(--fill-color);\n",
              "    }\n",
              "  }\n",
              "</style>\n",
              "\n",
              "      <script>\n",
              "        async function quickchart(key) {\n",
              "          const quickchartButtonEl =\n",
              "            document.querySelector('#' + key + ' button');\n",
              "          quickchartButtonEl.disabled = true;  // To prevent multiple clicks.\n",
              "          quickchartButtonEl.classList.add('colab-df-spinner');\n",
              "          try {\n",
              "            const charts = await google.colab.kernel.invokeFunction(\n",
              "                'suggestCharts', [key], {});\n",
              "          } catch (error) {\n",
              "            console.error('Error during call to suggestCharts:', error);\n",
              "          }\n",
              "          quickchartButtonEl.classList.remove('colab-df-spinner');\n",
              "          quickchartButtonEl.classList.add('colab-df-quickchart-complete');\n",
              "        }\n",
              "        (() => {\n",
              "          let quickchartButtonEl =\n",
              "            document.querySelector('#df-9f81d4ef-73bd-47a5-bb78-2995c1a8794e button');\n",
              "          quickchartButtonEl.style.display =\n",
              "            google.colab.kernel.accessAllowed ? 'block' : 'none';\n",
              "        })();\n",
              "      </script>\n",
              "    </div>\n",
              "\n",
              "    </div>\n",
              "  </div>\n"
            ],
            "application/vnd.google.colaboratory.intrinsic+json": {
              "type": "dataframe",
              "variable_name": "titanic_df",
              "summary": "{\n  \"name\": \"titanic_df\",\n  \"rows\": 891,\n  \"fields\": [\n    {\n      \"column\": \"PassengerId\",\n      \"properties\": {\n        \"dtype\": \"number\",\n        \"std\": 257,\n        \"min\": 1,\n        \"max\": 891,\n        \"num_unique_values\": 891,\n        \"samples\": [\n          710,\n          440,\n          841\n        ],\n        \"semantic_type\": \"\",\n        \"description\": \"\"\n      }\n    },\n    {\n      \"column\": \"Survived\",\n      \"properties\": {\n        \"dtype\": \"number\",\n        \"std\": 0,\n        \"min\": 0,\n        \"max\": 1,\n        \"num_unique_values\": 2,\n        \"samples\": [\n          1,\n          0\n        ],\n        \"semantic_type\": \"\",\n        \"description\": \"\"\n      }\n    },\n    {\n      \"column\": \"Pclass\",\n      \"properties\": {\n        \"dtype\": \"number\",\n        \"std\": 0,\n        \"min\": 1,\n        \"max\": 3,\n        \"num_unique_values\": 3,\n        \"samples\": [\n          3,\n          1\n        ],\n        \"semantic_type\": \"\",\n        \"description\": \"\"\n      }\n    },\n    {\n      \"column\": \"Name\",\n      \"properties\": {\n        \"dtype\": \"string\",\n        \"num_unique_values\": 891,\n        \"samples\": [\n          \"Moubarek, Master. Halim Gonios (\\\"William George\\\")\",\n          \"Kvillner, Mr. Johan Henrik Johannesson\"\n        ],\n        \"semantic_type\": \"\",\n        \"description\": \"\"\n      }\n    },\n    {\n      \"column\": \"Sex\",\n      \"properties\": {\n        \"dtype\": \"number\",\n        \"std\": 0,\n        \"min\": 0,\n        \"max\": 1,\n        \"num_unique_values\": 2,\n        \"samples\": [\n          0,\n          1\n        ],\n        \"semantic_type\": \"\",\n        \"description\": \"\"\n      }\n    },\n    {\n      \"column\": \"Age\",\n      \"properties\": {\n        \"dtype\": \"number\",\n        \"std\": 13.002015226002884,\n        \"min\": 0.42,\n        \"max\": 80.0,\n        \"num_unique_values\": 89,\n        \"samples\": [\n          59.0,\n          36.5\n        ],\n        \"semantic_type\": \"\",\n        \"description\": \"\"\n      }\n    },\n    {\n      \"column\": \"SibSp\",\n      \"properties\": {\n        \"dtype\": \"number\",\n        \"std\": 1,\n        \"min\": 0,\n        \"max\": 8,\n        \"num_unique_values\": 7,\n        \"samples\": [\n          1,\n          0\n        ],\n        \"semantic_type\": \"\",\n        \"description\": \"\"\n      }\n    },\n    {\n      \"column\": \"Parch\",\n      \"properties\": {\n        \"dtype\": \"number\",\n        \"std\": 0,\n        \"min\": 0,\n        \"max\": 6,\n        \"num_unique_values\": 7,\n        \"samples\": [\n          0,\n          1\n        ],\n        \"semantic_type\": \"\",\n        \"description\": \"\"\n      }\n    },\n    {\n      \"column\": \"Ticket\",\n      \"properties\": {\n        \"dtype\": \"string\",\n        \"num_unique_values\": 681,\n        \"samples\": [\n          \"11774\",\n          \"248740\"\n        ],\n        \"semantic_type\": \"\",\n        \"description\": \"\"\n      }\n    },\n    {\n      \"column\": \"Fare\",\n      \"properties\": {\n        \"dtype\": \"number\",\n        \"std\": 49.693428597180905,\n        \"min\": 0.0,\n        \"max\": 512.3292,\n        \"num_unique_values\": 248,\n        \"samples\": [\n          11.2417,\n          51.8625\n        ],\n        \"semantic_type\": \"\",\n        \"description\": \"\"\n      }\n    },\n    {\n      \"column\": \"Cabin\",\n      \"properties\": {\n        \"dtype\": \"number\",\n        \"std\": 2,\n        \"min\": 0,\n        \"max\": 8,\n        \"num_unique_values\": 9,\n        \"samples\": [\n          5,\n          2\n        ],\n        \"semantic_type\": \"\",\n        \"description\": \"\"\n      }\n    },\n    {\n      \"column\": \"Embarked\",\n      \"properties\": {\n        \"dtype\": \"number\",\n        \"std\": 1,\n        \"min\": 0,\n        \"max\": 3,\n        \"num_unique_values\": 4,\n        \"samples\": [\n          0,\n          1\n        ],\n        \"semantic_type\": \"\",\n        \"description\": \"\"\n      }\n    }\n  ]\n}"
            }
          },
          "metadata": {},
          "execution_count": 34
        }
      ]
    },
    {
      "cell_type": "code",
      "source": [
        "#Null처리 함수\n",
        "def fillna(df):\n",
        "  df['Age'].fillna(df['Age'].mean(),inplace=True)\n",
        "  df['Cabin'].fillna('N',inplace=True)\n",
        "  df['Embarked'].fillna('N',inplace=True)\n",
        "  df['Fare'].fillna(0,inplace=True)\n",
        "  return df\n",
        "#불필요한 피처 제거\n",
        "def drop_features(df):\n",
        "  df.drop(['PassengerId','Name','Ticket'],axis=1,inplace=True)\n",
        "  return df\n",
        "#레이블 인코딩 수행\n",
        "def format_features(df):\n",
        "  df['Cabin']=df['Cabin'].str[:1]\n",
        "  features=['Cabin','Sex','Embarked']\n",
        "  for feature in features:\n",
        "    le=LabelEncoder()\n",
        "    le=le.fit(df[feature])\n",
        "    df[feature]=le.transform(df[feature])\n",
        "  return df\n",
        "\n",
        "  #앞에서 설정한 데이터 전처리 함수 호출\n",
        "def transform_features(df):\n",
        "  df=fillna(df)\n",
        "  df=drop_features(df)\n",
        "  df=format_features(df)\n",
        "  return df"
      ],
      "metadata": {
        "id": "HOSBpAAdEHLP"
      },
      "execution_count": 48,
      "outputs": []
    },
    {
      "cell_type": "code",
      "source": [
        "titanic_df=pd.read_csv('/content/drive/MyDrive/ESAA/week4/titanic_train.csv')\n",
        "y_titanic_df=titanic_df['Survived']\n",
        "X_titanic_df=titanic_df.drop('Survived',axis=1)\n",
        "X_titanic_df=transform_features(X_titanic_df)\n",
        "X_titanic_df"
      ],
      "metadata": {
        "colab": {
          "base_uri": "https://localhost:8080/",
          "height": 953
        },
        "id": "pJCFg4FOFszq",
        "outputId": "40d5897e-4e14-499e-fae5-c3a4af840d10"
      },
      "execution_count": 49,
      "outputs": [
        {
          "output_type": "stream",
          "name": "stderr",
          "text": [
            "/tmp/ipython-input-3787972540.py:3: FutureWarning: A value is trying to be set on a copy of a DataFrame or Series through chained assignment using an inplace method.\n",
            "The behavior will change in pandas 3.0. This inplace method will never work because the intermediate object on which we are setting values always behaves as a copy.\n",
            "\n",
            "For example, when doing 'df[col].method(value, inplace=True)', try using 'df.method({col: value}, inplace=True)' or df[col] = df[col].method(value) instead, to perform the operation inplace on the original object.\n",
            "\n",
            "\n",
            "  df['Age'].fillna(df['Age'].mean(),inplace=True)\n",
            "/tmp/ipython-input-3787972540.py:4: FutureWarning: A value is trying to be set on a copy of a DataFrame or Series through chained assignment using an inplace method.\n",
            "The behavior will change in pandas 3.0. This inplace method will never work because the intermediate object on which we are setting values always behaves as a copy.\n",
            "\n",
            "For example, when doing 'df[col].method(value, inplace=True)', try using 'df.method({col: value}, inplace=True)' or df[col] = df[col].method(value) instead, to perform the operation inplace on the original object.\n",
            "\n",
            "\n",
            "  df['Cabin'].fillna('N',inplace=True)\n",
            "/tmp/ipython-input-3787972540.py:5: FutureWarning: A value is trying to be set on a copy of a DataFrame or Series through chained assignment using an inplace method.\n",
            "The behavior will change in pandas 3.0. This inplace method will never work because the intermediate object on which we are setting values always behaves as a copy.\n",
            "\n",
            "For example, when doing 'df[col].method(value, inplace=True)', try using 'df.method({col: value}, inplace=True)' or df[col] = df[col].method(value) instead, to perform the operation inplace on the original object.\n",
            "\n",
            "\n",
            "  df['Embarked'].fillna('N',inplace=True)\n",
            "/tmp/ipython-input-3787972540.py:6: FutureWarning: A value is trying to be set on a copy of a DataFrame or Series through chained assignment using an inplace method.\n",
            "The behavior will change in pandas 3.0. This inplace method will never work because the intermediate object on which we are setting values always behaves as a copy.\n",
            "\n",
            "For example, when doing 'df[col].method(value, inplace=True)', try using 'df.method({col: value}, inplace=True)' or df[col] = df[col].method(value) instead, to perform the operation inplace on the original object.\n",
            "\n",
            "\n",
            "  df['Fare'].fillna(0,inplace=True)\n"
          ]
        },
        {
          "output_type": "execute_result",
          "data": {
            "text/plain": [
              "     Pclass  Sex        Age  SibSp  Parch     Fare  Cabin  Embarked\n",
              "0         3    1  22.000000      1      0   7.2500      7         3\n",
              "1         1    0  38.000000      1      0  71.2833      2         0\n",
              "2         3    0  26.000000      0      0   7.9250      7         3\n",
              "3         1    0  35.000000      1      0  53.1000      2         3\n",
              "4         3    1  35.000000      0      0   8.0500      7         3\n",
              "..      ...  ...        ...    ...    ...      ...    ...       ...\n",
              "886       2    1  27.000000      0      0  13.0000      7         3\n",
              "887       1    0  19.000000      0      0  30.0000      1         3\n",
              "888       3    0  29.699118      1      2  23.4500      7         3\n",
              "889       1    1  26.000000      0      0  30.0000      2         0\n",
              "890       3    1  32.000000      0      0   7.7500      7         2\n",
              "\n",
              "[891 rows x 8 columns]"
            ],
            "text/html": [
              "\n",
              "  <div id=\"df-ebd245df-1518-4f0c-bc1f-389a5cd69bbb\" class=\"colab-df-container\">\n",
              "    <div>\n",
              "<style scoped>\n",
              "    .dataframe tbody tr th:only-of-type {\n",
              "        vertical-align: middle;\n",
              "    }\n",
              "\n",
              "    .dataframe tbody tr th {\n",
              "        vertical-align: top;\n",
              "    }\n",
              "\n",
              "    .dataframe thead th {\n",
              "        text-align: right;\n",
              "    }\n",
              "</style>\n",
              "<table border=\"1\" class=\"dataframe\">\n",
              "  <thead>\n",
              "    <tr style=\"text-align: right;\">\n",
              "      <th></th>\n",
              "      <th>Pclass</th>\n",
              "      <th>Sex</th>\n",
              "      <th>Age</th>\n",
              "      <th>SibSp</th>\n",
              "      <th>Parch</th>\n",
              "      <th>Fare</th>\n",
              "      <th>Cabin</th>\n",
              "      <th>Embarked</th>\n",
              "    </tr>\n",
              "  </thead>\n",
              "  <tbody>\n",
              "    <tr>\n",
              "      <th>0</th>\n",
              "      <td>3</td>\n",
              "      <td>1</td>\n",
              "      <td>22.000000</td>\n",
              "      <td>1</td>\n",
              "      <td>0</td>\n",
              "      <td>7.2500</td>\n",
              "      <td>7</td>\n",
              "      <td>3</td>\n",
              "    </tr>\n",
              "    <tr>\n",
              "      <th>1</th>\n",
              "      <td>1</td>\n",
              "      <td>0</td>\n",
              "      <td>38.000000</td>\n",
              "      <td>1</td>\n",
              "      <td>0</td>\n",
              "      <td>71.2833</td>\n",
              "      <td>2</td>\n",
              "      <td>0</td>\n",
              "    </tr>\n",
              "    <tr>\n",
              "      <th>2</th>\n",
              "      <td>3</td>\n",
              "      <td>0</td>\n",
              "      <td>26.000000</td>\n",
              "      <td>0</td>\n",
              "      <td>0</td>\n",
              "      <td>7.9250</td>\n",
              "      <td>7</td>\n",
              "      <td>3</td>\n",
              "    </tr>\n",
              "    <tr>\n",
              "      <th>3</th>\n",
              "      <td>1</td>\n",
              "      <td>0</td>\n",
              "      <td>35.000000</td>\n",
              "      <td>1</td>\n",
              "      <td>0</td>\n",
              "      <td>53.1000</td>\n",
              "      <td>2</td>\n",
              "      <td>3</td>\n",
              "    </tr>\n",
              "    <tr>\n",
              "      <th>4</th>\n",
              "      <td>3</td>\n",
              "      <td>1</td>\n",
              "      <td>35.000000</td>\n",
              "      <td>0</td>\n",
              "      <td>0</td>\n",
              "      <td>8.0500</td>\n",
              "      <td>7</td>\n",
              "      <td>3</td>\n",
              "    </tr>\n",
              "    <tr>\n",
              "      <th>...</th>\n",
              "      <td>...</td>\n",
              "      <td>...</td>\n",
              "      <td>...</td>\n",
              "      <td>...</td>\n",
              "      <td>...</td>\n",
              "      <td>...</td>\n",
              "      <td>...</td>\n",
              "      <td>...</td>\n",
              "    </tr>\n",
              "    <tr>\n",
              "      <th>886</th>\n",
              "      <td>2</td>\n",
              "      <td>1</td>\n",
              "      <td>27.000000</td>\n",
              "      <td>0</td>\n",
              "      <td>0</td>\n",
              "      <td>13.0000</td>\n",
              "      <td>7</td>\n",
              "      <td>3</td>\n",
              "    </tr>\n",
              "    <tr>\n",
              "      <th>887</th>\n",
              "      <td>1</td>\n",
              "      <td>0</td>\n",
              "      <td>19.000000</td>\n",
              "      <td>0</td>\n",
              "      <td>0</td>\n",
              "      <td>30.0000</td>\n",
              "      <td>1</td>\n",
              "      <td>3</td>\n",
              "    </tr>\n",
              "    <tr>\n",
              "      <th>888</th>\n",
              "      <td>3</td>\n",
              "      <td>0</td>\n",
              "      <td>29.699118</td>\n",
              "      <td>1</td>\n",
              "      <td>2</td>\n",
              "      <td>23.4500</td>\n",
              "      <td>7</td>\n",
              "      <td>3</td>\n",
              "    </tr>\n",
              "    <tr>\n",
              "      <th>889</th>\n",
              "      <td>1</td>\n",
              "      <td>1</td>\n",
              "      <td>26.000000</td>\n",
              "      <td>0</td>\n",
              "      <td>0</td>\n",
              "      <td>30.0000</td>\n",
              "      <td>2</td>\n",
              "      <td>0</td>\n",
              "    </tr>\n",
              "    <tr>\n",
              "      <th>890</th>\n",
              "      <td>3</td>\n",
              "      <td>1</td>\n",
              "      <td>32.000000</td>\n",
              "      <td>0</td>\n",
              "      <td>0</td>\n",
              "      <td>7.7500</td>\n",
              "      <td>7</td>\n",
              "      <td>2</td>\n",
              "    </tr>\n",
              "  </tbody>\n",
              "</table>\n",
              "<p>891 rows × 8 columns</p>\n",
              "</div>\n",
              "    <div class=\"colab-df-buttons\">\n",
              "\n",
              "  <div class=\"colab-df-container\">\n",
              "    <button class=\"colab-df-convert\" onclick=\"convertToInteractive('df-ebd245df-1518-4f0c-bc1f-389a5cd69bbb')\"\n",
              "            title=\"Convert this dataframe to an interactive table.\"\n",
              "            style=\"display:none;\">\n",
              "\n",
              "  <svg xmlns=\"http://www.w3.org/2000/svg\" height=\"24px\" viewBox=\"0 -960 960 960\">\n",
              "    <path d=\"M120-120v-720h720v720H120Zm60-500h600v-160H180v160Zm220 220h160v-160H400v160Zm0 220h160v-160H400v160ZM180-400h160v-160H180v160Zm440 0h160v-160H620v160ZM180-180h160v-160H180v160Zm440 0h160v-160H620v160Z\"/>\n",
              "  </svg>\n",
              "    </button>\n",
              "\n",
              "  <style>\n",
              "    .colab-df-container {\n",
              "      display:flex;\n",
              "      gap: 12px;\n",
              "    }\n",
              "\n",
              "    .colab-df-convert {\n",
              "      background-color: #E8F0FE;\n",
              "      border: none;\n",
              "      border-radius: 50%;\n",
              "      cursor: pointer;\n",
              "      display: none;\n",
              "      fill: #1967D2;\n",
              "      height: 32px;\n",
              "      padding: 0 0 0 0;\n",
              "      width: 32px;\n",
              "    }\n",
              "\n",
              "    .colab-df-convert:hover {\n",
              "      background-color: #E2EBFA;\n",
              "      box-shadow: 0px 1px 2px rgba(60, 64, 67, 0.3), 0px 1px 3px 1px rgba(60, 64, 67, 0.15);\n",
              "      fill: #174EA6;\n",
              "    }\n",
              "\n",
              "    .colab-df-buttons div {\n",
              "      margin-bottom: 4px;\n",
              "    }\n",
              "\n",
              "    [theme=dark] .colab-df-convert {\n",
              "      background-color: #3B4455;\n",
              "      fill: #D2E3FC;\n",
              "    }\n",
              "\n",
              "    [theme=dark] .colab-df-convert:hover {\n",
              "      background-color: #434B5C;\n",
              "      box-shadow: 0px 1px 3px 1px rgba(0, 0, 0, 0.15);\n",
              "      filter: drop-shadow(0px 1px 2px rgba(0, 0, 0, 0.3));\n",
              "      fill: #FFFFFF;\n",
              "    }\n",
              "  </style>\n",
              "\n",
              "    <script>\n",
              "      const buttonEl =\n",
              "        document.querySelector('#df-ebd245df-1518-4f0c-bc1f-389a5cd69bbb button.colab-df-convert');\n",
              "      buttonEl.style.display =\n",
              "        google.colab.kernel.accessAllowed ? 'block' : 'none';\n",
              "\n",
              "      async function convertToInteractive(key) {\n",
              "        const element = document.querySelector('#df-ebd245df-1518-4f0c-bc1f-389a5cd69bbb');\n",
              "        const dataTable =\n",
              "          await google.colab.kernel.invokeFunction('convertToInteractive',\n",
              "                                                    [key], {});\n",
              "        if (!dataTable) return;\n",
              "\n",
              "        const docLinkHtml = 'Like what you see? Visit the ' +\n",
              "          '<a target=\"_blank\" href=https://colab.research.google.com/notebooks/data_table.ipynb>data table notebook</a>'\n",
              "          + ' to learn more about interactive tables.';\n",
              "        element.innerHTML = '';\n",
              "        dataTable['output_type'] = 'display_data';\n",
              "        await google.colab.output.renderOutput(dataTable, element);\n",
              "        const docLink = document.createElement('div');\n",
              "        docLink.innerHTML = docLinkHtml;\n",
              "        element.appendChild(docLink);\n",
              "      }\n",
              "    </script>\n",
              "  </div>\n",
              "\n",
              "\n",
              "    <div id=\"df-0a491955-f409-4b17-b561-8bf27b582326\">\n",
              "      <button class=\"colab-df-quickchart\" onclick=\"quickchart('df-0a491955-f409-4b17-b561-8bf27b582326')\"\n",
              "                title=\"Suggest charts\"\n",
              "                style=\"display:none;\">\n",
              "\n",
              "<svg xmlns=\"http://www.w3.org/2000/svg\" height=\"24px\"viewBox=\"0 0 24 24\"\n",
              "     width=\"24px\">\n",
              "    <g>\n",
              "        <path d=\"M19 3H5c-1.1 0-2 .9-2 2v14c0 1.1.9 2 2 2h14c1.1 0 2-.9 2-2V5c0-1.1-.9-2-2-2zM9 17H7v-7h2v7zm4 0h-2V7h2v10zm4 0h-2v-4h2v4z\"/>\n",
              "    </g>\n",
              "</svg>\n",
              "      </button>\n",
              "\n",
              "<style>\n",
              "  .colab-df-quickchart {\n",
              "      --bg-color: #E8F0FE;\n",
              "      --fill-color: #1967D2;\n",
              "      --hover-bg-color: #E2EBFA;\n",
              "      --hover-fill-color: #174EA6;\n",
              "      --disabled-fill-color: #AAA;\n",
              "      --disabled-bg-color: #DDD;\n",
              "  }\n",
              "\n",
              "  [theme=dark] .colab-df-quickchart {\n",
              "      --bg-color: #3B4455;\n",
              "      --fill-color: #D2E3FC;\n",
              "      --hover-bg-color: #434B5C;\n",
              "      --hover-fill-color: #FFFFFF;\n",
              "      --disabled-bg-color: #3B4455;\n",
              "      --disabled-fill-color: #666;\n",
              "  }\n",
              "\n",
              "  .colab-df-quickchart {\n",
              "    background-color: var(--bg-color);\n",
              "    border: none;\n",
              "    border-radius: 50%;\n",
              "    cursor: pointer;\n",
              "    display: none;\n",
              "    fill: var(--fill-color);\n",
              "    height: 32px;\n",
              "    padding: 0;\n",
              "    width: 32px;\n",
              "  }\n",
              "\n",
              "  .colab-df-quickchart:hover {\n",
              "    background-color: var(--hover-bg-color);\n",
              "    box-shadow: 0 1px 2px rgba(60, 64, 67, 0.3), 0 1px 3px 1px rgba(60, 64, 67, 0.15);\n",
              "    fill: var(--button-hover-fill-color);\n",
              "  }\n",
              "\n",
              "  .colab-df-quickchart-complete:disabled,\n",
              "  .colab-df-quickchart-complete:disabled:hover {\n",
              "    background-color: var(--disabled-bg-color);\n",
              "    fill: var(--disabled-fill-color);\n",
              "    box-shadow: none;\n",
              "  }\n",
              "\n",
              "  .colab-df-spinner {\n",
              "    border: 2px solid var(--fill-color);\n",
              "    border-color: transparent;\n",
              "    border-bottom-color: var(--fill-color);\n",
              "    animation:\n",
              "      spin 1s steps(1) infinite;\n",
              "  }\n",
              "\n",
              "  @keyframes spin {\n",
              "    0% {\n",
              "      border-color: transparent;\n",
              "      border-bottom-color: var(--fill-color);\n",
              "      border-left-color: var(--fill-color);\n",
              "    }\n",
              "    20% {\n",
              "      border-color: transparent;\n",
              "      border-left-color: var(--fill-color);\n",
              "      border-top-color: var(--fill-color);\n",
              "    }\n",
              "    30% {\n",
              "      border-color: transparent;\n",
              "      border-left-color: var(--fill-color);\n",
              "      border-top-color: var(--fill-color);\n",
              "      border-right-color: var(--fill-color);\n",
              "    }\n",
              "    40% {\n",
              "      border-color: transparent;\n",
              "      border-right-color: var(--fill-color);\n",
              "      border-top-color: var(--fill-color);\n",
              "    }\n",
              "    60% {\n",
              "      border-color: transparent;\n",
              "      border-right-color: var(--fill-color);\n",
              "    }\n",
              "    80% {\n",
              "      border-color: transparent;\n",
              "      border-right-color: var(--fill-color);\n",
              "      border-bottom-color: var(--fill-color);\n",
              "    }\n",
              "    90% {\n",
              "      border-color: transparent;\n",
              "      border-bottom-color: var(--fill-color);\n",
              "    }\n",
              "  }\n",
              "</style>\n",
              "\n",
              "      <script>\n",
              "        async function quickchart(key) {\n",
              "          const quickchartButtonEl =\n",
              "            document.querySelector('#' + key + ' button');\n",
              "          quickchartButtonEl.disabled = true;  // To prevent multiple clicks.\n",
              "          quickchartButtonEl.classList.add('colab-df-spinner');\n",
              "          try {\n",
              "            const charts = await google.colab.kernel.invokeFunction(\n",
              "                'suggestCharts', [key], {});\n",
              "          } catch (error) {\n",
              "            console.error('Error during call to suggestCharts:', error);\n",
              "          }\n",
              "          quickchartButtonEl.classList.remove('colab-df-spinner');\n",
              "          quickchartButtonEl.classList.add('colab-df-quickchart-complete');\n",
              "        }\n",
              "        (() => {\n",
              "          let quickchartButtonEl =\n",
              "            document.querySelector('#df-0a491955-f409-4b17-b561-8bf27b582326 button');\n",
              "          quickchartButtonEl.style.display =\n",
              "            google.colab.kernel.accessAllowed ? 'block' : 'none';\n",
              "        })();\n",
              "      </script>\n",
              "    </div>\n",
              "\n",
              "  <div id=\"id_93a905fd-0df1-4af7-9ab9-db8ab0b086c8\">\n",
              "    <style>\n",
              "      .colab-df-generate {\n",
              "        background-color: #E8F0FE;\n",
              "        border: none;\n",
              "        border-radius: 50%;\n",
              "        cursor: pointer;\n",
              "        display: none;\n",
              "        fill: #1967D2;\n",
              "        height: 32px;\n",
              "        padding: 0 0 0 0;\n",
              "        width: 32px;\n",
              "      }\n",
              "\n",
              "      .colab-df-generate:hover {\n",
              "        background-color: #E2EBFA;\n",
              "        box-shadow: 0px 1px 2px rgba(60, 64, 67, 0.3), 0px 1px 3px 1px rgba(60, 64, 67, 0.15);\n",
              "        fill: #174EA6;\n",
              "      }\n",
              "\n",
              "      [theme=dark] .colab-df-generate {\n",
              "        background-color: #3B4455;\n",
              "        fill: #D2E3FC;\n",
              "      }\n",
              "\n",
              "      [theme=dark] .colab-df-generate:hover {\n",
              "        background-color: #434B5C;\n",
              "        box-shadow: 0px 1px 3px 1px rgba(0, 0, 0, 0.15);\n",
              "        filter: drop-shadow(0px 1px 2px rgba(0, 0, 0, 0.3));\n",
              "        fill: #FFFFFF;\n",
              "      }\n",
              "    </style>\n",
              "    <button class=\"colab-df-generate\" onclick=\"generateWithVariable('X_titanic_df')\"\n",
              "            title=\"Generate code using this dataframe.\"\n",
              "            style=\"display:none;\">\n",
              "\n",
              "  <svg xmlns=\"http://www.w3.org/2000/svg\" height=\"24px\"viewBox=\"0 0 24 24\"\n",
              "       width=\"24px\">\n",
              "    <path d=\"M7,19H8.4L18.45,9,17,7.55,7,17.6ZM5,21V16.75L18.45,3.32a2,2,0,0,1,2.83,0l1.4,1.43a1.91,1.91,0,0,1,.58,1.4,1.91,1.91,0,0,1-.58,1.4L9.25,21ZM18.45,9,17,7.55Zm-12,3A5.31,5.31,0,0,0,4.9,8.1,5.31,5.31,0,0,0,1,6.5,5.31,5.31,0,0,0,4.9,4.9,5.31,5.31,0,0,0,6.5,1,5.31,5.31,0,0,0,8.1,4.9,5.31,5.31,0,0,0,12,6.5,5.46,5.46,0,0,0,6.5,12Z\"/>\n",
              "  </svg>\n",
              "    </button>\n",
              "    <script>\n",
              "      (() => {\n",
              "      const buttonEl =\n",
              "        document.querySelector('#id_93a905fd-0df1-4af7-9ab9-db8ab0b086c8 button.colab-df-generate');\n",
              "      buttonEl.style.display =\n",
              "        google.colab.kernel.accessAllowed ? 'block' : 'none';\n",
              "\n",
              "      buttonEl.onclick = () => {\n",
              "        google.colab.notebook.generateWithVariable('X_titanic_df');\n",
              "      }\n",
              "      })();\n",
              "    </script>\n",
              "  </div>\n",
              "\n",
              "    </div>\n",
              "  </div>\n"
            ],
            "application/vnd.google.colaboratory.intrinsic+json": {
              "type": "dataframe",
              "variable_name": "X_titanic_df",
              "summary": "{\n  \"name\": \"X_titanic_df\",\n  \"rows\": 891,\n  \"fields\": [\n    {\n      \"column\": \"Pclass\",\n      \"properties\": {\n        \"dtype\": \"number\",\n        \"std\": 0,\n        \"min\": 1,\n        \"max\": 3,\n        \"num_unique_values\": 3,\n        \"samples\": [\n          3,\n          1,\n          2\n        ],\n        \"semantic_type\": \"\",\n        \"description\": \"\"\n      }\n    },\n    {\n      \"column\": \"Sex\",\n      \"properties\": {\n        \"dtype\": \"number\",\n        \"std\": 0,\n        \"min\": 0,\n        \"max\": 1,\n        \"num_unique_values\": 2,\n        \"samples\": [\n          0,\n          1\n        ],\n        \"semantic_type\": \"\",\n        \"description\": \"\"\n      }\n    },\n    {\n      \"column\": \"Age\",\n      \"properties\": {\n        \"dtype\": \"number\",\n        \"std\": 13.002015226002884,\n        \"min\": 0.42,\n        \"max\": 80.0,\n        \"num_unique_values\": 89,\n        \"samples\": [\n          59.0,\n          36.5\n        ],\n        \"semantic_type\": \"\",\n        \"description\": \"\"\n      }\n    },\n    {\n      \"column\": \"SibSp\",\n      \"properties\": {\n        \"dtype\": \"number\",\n        \"std\": 1,\n        \"min\": 0,\n        \"max\": 8,\n        \"num_unique_values\": 7,\n        \"samples\": [\n          1,\n          0\n        ],\n        \"semantic_type\": \"\",\n        \"description\": \"\"\n      }\n    },\n    {\n      \"column\": \"Parch\",\n      \"properties\": {\n        \"dtype\": \"number\",\n        \"std\": 0,\n        \"min\": 0,\n        \"max\": 6,\n        \"num_unique_values\": 7,\n        \"samples\": [\n          0,\n          1\n        ],\n        \"semantic_type\": \"\",\n        \"description\": \"\"\n      }\n    },\n    {\n      \"column\": \"Fare\",\n      \"properties\": {\n        \"dtype\": \"number\",\n        \"std\": 49.693428597180905,\n        \"min\": 0.0,\n        \"max\": 512.3292,\n        \"num_unique_values\": 248,\n        \"samples\": [\n          11.2417,\n          51.8625\n        ],\n        \"semantic_type\": \"\",\n        \"description\": \"\"\n      }\n    },\n    {\n      \"column\": \"Cabin\",\n      \"properties\": {\n        \"dtype\": \"number\",\n        \"std\": 2,\n        \"min\": 0,\n        \"max\": 8,\n        \"num_unique_values\": 9,\n        \"samples\": [\n          5,\n          2\n        ],\n        \"semantic_type\": \"\",\n        \"description\": \"\"\n      }\n    },\n    {\n      \"column\": \"Embarked\",\n      \"properties\": {\n        \"dtype\": \"number\",\n        \"std\": 1,\n        \"min\": 0,\n        \"max\": 3,\n        \"num_unique_values\": 4,\n        \"samples\": [\n          0,\n          1\n        ],\n        \"semantic_type\": \"\",\n        \"description\": \"\"\n      }\n    }\n  ]\n}"
            }
          },
          "metadata": {},
          "execution_count": 49
        }
      ]
    },
    {
      "cell_type": "code",
      "source": [
        "from sklearn. model_selection import train_test_split\n",
        "X_train,X_test,y_train,y_test=train_test_split(X_titanic_df, y_titanic_df,test_size=0.2,random_state=11)"
      ],
      "metadata": {
        "id": "wDE6v-RWF8kj"
      },
      "execution_count": 50,
      "outputs": []
    },
    {
      "cell_type": "code",
      "source": [
        "from sklearn.tree import DecisionTreeClassifier\n",
        "from sklearn.ensemble import RandomForestClassifier\n",
        "from sklearn.linear_model import LogisticRegression\n",
        "from sklearn.metrics import accuracy_score\n",
        "\n",
        "dt_clf=DecisionTreeClassifier()\n",
        "rf_clf=RandomForestClassifier()\n",
        "lr_clf=LogisticRegression()\n",
        "\n",
        "dt_clf.fit(X_train,y_train)\n",
        "rf_clf.fit(X_train,y_train)\n",
        "lr_clf.fit(X_train,y_train)\n",
        "\n",
        "dt_pred=dt_clf.predict(X_test)\n",
        "rf_pred=rf_clf.predict(X_test)\n",
        "lr_pred=lr_clf.predict(X_test)\n",
        "\n",
        "print('DecisionTreeClassifier 정확도: {0:.4f}'.format(accuracy_score(y_test,dt_pred)))\n",
        "print('RandomFroestClassifief 정확도: {0:.4f}'.format(accuracy_score(y_test,rf_pred)))\n",
        "print('LogisticRegression 정확도: {0:.4f}'.format(accuracy_score(y_test,lr_pred)))"
      ],
      "metadata": {
        "colab": {
          "base_uri": "https://localhost:8080/"
        },
        "id": "AkIZmxzuG28L",
        "outputId": "85d8e2a6-699d-4fc0-b6fa-c9fe5221f2f6"
      },
      "execution_count": 51,
      "outputs": [
        {
          "output_type": "stream",
          "name": "stdout",
          "text": [
            "DecisionTreeClassifier 정확도: 0.7877\n",
            "RandomFroestClassifief 정확도: 0.8603\n",
            "LogisticRegression 정확도: 0.8492\n"
          ]
        },
        {
          "output_type": "stream",
          "name": "stderr",
          "text": [
            "/usr/local/lib/python3.12/dist-packages/sklearn/linear_model/_logistic.py:465: ConvergenceWarning: lbfgs failed to converge (status=1):\n",
            "STOP: TOTAL NO. OF ITERATIONS REACHED LIMIT.\n",
            "\n",
            "Increase the number of iterations (max_iter) or scale the data as shown in:\n",
            "    https://scikit-learn.org/stable/modules/preprocessing.html\n",
            "Please also refer to the documentation for alternative solver options:\n",
            "    https://scikit-learn.org/stable/modules/linear_model.html#logistic-regression\n",
            "  n_iter_i = _check_optimize_result(\n"
          ]
        }
      ]
    },
    {
      "cell_type": "code",
      "source": [
        "#교차검증\n",
        "from sklearn.model_selection import KFold\n",
        "\n",
        "def exec_kfold(clf,folds=5):\n",
        "  kfold=KFold(n_splits=folds)\n",
        "  scores=[]\n",
        "\n",
        "  for iter_count, (train_index, test_index) in enumerate(kfold.split(X_titanic_df)):\n",
        "    X_train, X_test=X_titanic_df.values[train_index], X_titanic_df.values[test_index]\n",
        "    y_train, y_test=y_titanic_df.values[train_index], y_titanic_df.values[test_index]\n",
        "\n",
        "    clf.fit(X_train, y_train)\n",
        "    predictions=clf.predict(X_test)\n",
        "    accuracy=accuracy_score(y_test, predictions)\n",
        "    scores.append(accuracy)\n",
        "    print(\"교차검증 {0} 정확도: {1:.4f}\".format(iter_count,accuracy))\n",
        "  mean_score=np.mean(scores)\n",
        "  print('평균 정확도: {0:.4f}'.format(mean_score))\n",
        "exec_kfold(dt_clf,folds=5)"
      ],
      "metadata": {
        "colab": {
          "base_uri": "https://localhost:8080/"
        },
        "id": "DAeFQ8olILbt",
        "outputId": "e3738abb-9c6f-473a-e3a9-00e4951b04fc"
      },
      "execution_count": 52,
      "outputs": [
        {
          "output_type": "stream",
          "name": "stdout",
          "text": [
            "교차검증 0 정확도: 0.7598\n",
            "교차검증 1 정확도: 0.7697\n",
            "교차검증 2 정확도: 0.7865\n",
            "교차검증 3 정확도: 0.7640\n",
            "교차검증 4 정확도: 0.8258\n",
            "평균 정확도: 0.7812\n"
          ]
        }
      ]
    },
    {
      "cell_type": "code",
      "source": [
        "from sklearn.model_selection import cross_val_score\n",
        "scores=cross_val_score(dt_clf,X_titanic_df,y_titanic_df,cv=5)\n",
        "for iter_count, accuracy in enumerate(scores):\n",
        "  print('교차 검증 {0} 정확도 :{1:.4f}'.format(iter_count,accuracy))\n",
        "print('평균정확도: {0:.4f}'.format(np.mean(scores)))\n",
        ""
      ],
      "metadata": {
        "colab": {
          "base_uri": "https://localhost:8080/"
        },
        "id": "K4NSZ3ebLEL9",
        "outputId": "2a51734a-bb98-4bbe-8ccd-902fc01e5eb0"
      },
      "execution_count": 54,
      "outputs": [
        {
          "output_type": "stream",
          "name": "stdout",
          "text": [
            "교차 검증 0 정확도 :0.7486\n",
            "교차 검증 1 정확도 :0.7809\n",
            "교차 검증 2 정확도 :0.7865\n",
            "교차 검증 3 정확도 :0.7809\n",
            "교차 검증 4 정확도 :0.8258\n",
            "평균정확도: 0.7846\n"
          ]
        }
      ]
    },
    {
      "cell_type": "code",
      "source": [
        "from sklearn.model_selection import GridSearchCV\n",
        "\n",
        "parameters={'max_depth': [2,3,5,10],'min_samples_split':[2,3,5],'min_samples_leaf':[1,5,8]}\n",
        "grid_dclf=GridSearchCV(dt_clf,param_grid=parameters,scoring='accuracy',cv=5)\n",
        "grid_dclf.fit(X_train,y_train)\n",
        "print('GridSearchCV최적 하이퍼 파라미터:',grid_dclf.best_params_)\n",
        "print('GridSearchCV최고 정확도: {0:.4f}'.format(grid_dclf.best_score_))\n",
        "best_dclf=grid_dclf.best_estimator_\n",
        "dpredictions=best_dclf.predict(X_test)\n",
        "accuracy=accuracy_score(y_test,dpredictions)\n",
        "print('테스트 세트에서의 DecisionTreeClassifier정확도: {0:.4f}'.format(accuracy))\n"
      ],
      "metadata": {
        "colab": {
          "base_uri": "https://localhost:8080/"
        },
        "id": "J_an-vZHLys0",
        "outputId": "27835520-11c1-4399-8e27-09d8c4deadd7"
      },
      "execution_count": 56,
      "outputs": [
        {
          "output_type": "stream",
          "name": "stdout",
          "text": [
            "GridSearchCV최적 하이퍼 파라미터: {'max_depth': 3, 'min_samples_leaf': 5, 'min_samples_split': 2}\n",
            "GridSearchCV최고 정확도: 0.7992\n",
            "테스트 세트에서의 DecisionTreeClassifier정확도: 0.8715\n"
          ]
        }
      ]
    },
    {
      "cell_type": "code",
      "source": [],
      "metadata": {
        "id": "JiPLqWVBNtYG"
      },
      "execution_count": null,
      "outputs": []
    }
  ]
}